{
 "cells": [
  {
   "cell_type": "markdown",
   "id": "21c6ebaa",
   "metadata": {},
   "source": [
    "## 1. Import necessasry librabries"
   ]
  },
  {
   "cell_type": "code",
   "execution_count": 1,
   "id": "c90236e7",
   "metadata": {},
   "outputs": [],
   "source": [
    "import pandas as pd"
   ]
  },
  {
   "cell_type": "markdown",
   "id": "da7ba1d1",
   "metadata": {},
   "source": [
    "## 2. Import data"
   ]
  },
  {
   "cell_type": "code",
   "execution_count": 2,
   "id": "b3a14024",
   "metadata": {},
   "outputs": [
    {
     "data": {
      "text/html": [
       "<div>\n",
       "<style scoped>\n",
       "    .dataframe tbody tr th:only-of-type {\n",
       "        vertical-align: middle;\n",
       "    }\n",
       "\n",
       "    .dataframe tbody tr th {\n",
       "        vertical-align: top;\n",
       "    }\n",
       "\n",
       "    .dataframe thead th {\n",
       "        text-align: right;\n",
       "    }\n",
       "</style>\n",
       "<table border=\"1\" class=\"dataframe\">\n",
       "  <thead>\n",
       "    <tr style=\"text-align: right;\">\n",
       "      <th></th>\n",
       "      <th>HP</th>\n",
       "      <th>MPG</th>\n",
       "      <th>VOL</th>\n",
       "      <th>SP</th>\n",
       "      <th>WT</th>\n",
       "    </tr>\n",
       "  </thead>\n",
       "  <tbody>\n",
       "    <tr>\n",
       "      <th>0</th>\n",
       "      <td>49</td>\n",
       "      <td>53.700681</td>\n",
       "      <td>89</td>\n",
       "      <td>104.185353</td>\n",
       "      <td>28.762059</td>\n",
       "    </tr>\n",
       "    <tr>\n",
       "      <th>1</th>\n",
       "      <td>55</td>\n",
       "      <td>50.013401</td>\n",
       "      <td>92</td>\n",
       "      <td>105.461264</td>\n",
       "      <td>30.466833</td>\n",
       "    </tr>\n",
       "    <tr>\n",
       "      <th>2</th>\n",
       "      <td>55</td>\n",
       "      <td>50.013401</td>\n",
       "      <td>92</td>\n",
       "      <td>105.461264</td>\n",
       "      <td>30.193597</td>\n",
       "    </tr>\n",
       "    <tr>\n",
       "      <th>3</th>\n",
       "      <td>70</td>\n",
       "      <td>45.696322</td>\n",
       "      <td>92</td>\n",
       "      <td>113.461264</td>\n",
       "      <td>30.632114</td>\n",
       "    </tr>\n",
       "    <tr>\n",
       "      <th>4</th>\n",
       "      <td>53</td>\n",
       "      <td>50.504232</td>\n",
       "      <td>92</td>\n",
       "      <td>104.461264</td>\n",
       "      <td>29.889149</td>\n",
       "    </tr>\n",
       "    <tr>\n",
       "      <th>...</th>\n",
       "      <td>...</td>\n",
       "      <td>...</td>\n",
       "      <td>...</td>\n",
       "      <td>...</td>\n",
       "      <td>...</td>\n",
       "    </tr>\n",
       "    <tr>\n",
       "      <th>76</th>\n",
       "      <td>322</td>\n",
       "      <td>36.900000</td>\n",
       "      <td>50</td>\n",
       "      <td>169.598513</td>\n",
       "      <td>16.132947</td>\n",
       "    </tr>\n",
       "    <tr>\n",
       "      <th>77</th>\n",
       "      <td>238</td>\n",
       "      <td>19.197888</td>\n",
       "      <td>115</td>\n",
       "      <td>150.576579</td>\n",
       "      <td>37.923113</td>\n",
       "    </tr>\n",
       "    <tr>\n",
       "      <th>78</th>\n",
       "      <td>263</td>\n",
       "      <td>34.000000</td>\n",
       "      <td>50</td>\n",
       "      <td>151.598513</td>\n",
       "      <td>15.769625</td>\n",
       "    </tr>\n",
       "    <tr>\n",
       "      <th>79</th>\n",
       "      <td>295</td>\n",
       "      <td>19.833733</td>\n",
       "      <td>119</td>\n",
       "      <td>167.944460</td>\n",
       "      <td>39.423099</td>\n",
       "    </tr>\n",
       "    <tr>\n",
       "      <th>80</th>\n",
       "      <td>236</td>\n",
       "      <td>12.101263</td>\n",
       "      <td>107</td>\n",
       "      <td>139.840817</td>\n",
       "      <td>34.948615</td>\n",
       "    </tr>\n",
       "  </tbody>\n",
       "</table>\n",
       "<p>81 rows × 5 columns</p>\n",
       "</div>"
      ],
      "text/plain": [
       "     HP        MPG  VOL          SP         WT\n",
       "0    49  53.700681   89  104.185353  28.762059\n",
       "1    55  50.013401   92  105.461264  30.466833\n",
       "2    55  50.013401   92  105.461264  30.193597\n",
       "3    70  45.696322   92  113.461264  30.632114\n",
       "4    53  50.504232   92  104.461264  29.889149\n",
       "..  ...        ...  ...         ...        ...\n",
       "76  322  36.900000   50  169.598513  16.132947\n",
       "77  238  19.197888  115  150.576579  37.923113\n",
       "78  263  34.000000   50  151.598513  15.769625\n",
       "79  295  19.833733  119  167.944460  39.423099\n",
       "80  236  12.101263  107  139.840817  34.948615\n",
       "\n",
       "[81 rows x 5 columns]"
      ]
     },
     "execution_count": 2,
     "metadata": {},
     "output_type": "execute_result"
    }
   ],
   "source": [
    "cars_data = pd.read_csv('Cars.csv')\n",
    "cars_data"
   ]
  },
  {
   "cell_type": "markdown",
   "id": "2e39982d",
   "metadata": {},
   "source": [
    "## 3. Data Understanding"
   ]
  },
  {
   "cell_type": "markdown",
   "id": "345ef66d",
   "metadata": {},
   "source": [
    "### 3.1 Initial Analysis"
   ]
  },
  {
   "cell_type": "code",
   "execution_count": 3,
   "id": "e7981f6d",
   "metadata": {},
   "outputs": [
    {
     "data": {
      "text/plain": [
       "(81, 5)"
      ]
     },
     "execution_count": 3,
     "metadata": {},
     "output_type": "execute_result"
    }
   ],
   "source": [
    "cars_data.shape"
   ]
  },
  {
   "cell_type": "code",
   "execution_count": 4,
   "id": "a0722294",
   "metadata": {},
   "outputs": [
    {
     "data": {
      "text/plain": [
       "HP     0\n",
       "MPG    0\n",
       "VOL    0\n",
       "SP     0\n",
       "WT     0\n",
       "dtype: int64"
      ]
     },
     "execution_count": 4,
     "metadata": {},
     "output_type": "execute_result"
    }
   ],
   "source": [
    "cars_data.isna().sum()"
   ]
  },
  {
   "cell_type": "code",
   "execution_count": 5,
   "id": "2e91be9c",
   "metadata": {},
   "outputs": [
    {
     "data": {
      "text/plain": [
       "HP       int64\n",
       "MPG    float64\n",
       "VOL      int64\n",
       "SP     float64\n",
       "WT     float64\n",
       "dtype: object"
      ]
     },
     "execution_count": 5,
     "metadata": {},
     "output_type": "execute_result"
    }
   ],
   "source": [
    "cars_data.dtypes"
   ]
  },
  {
   "cell_type": "markdown",
   "id": "0c7222ec",
   "metadata": {},
   "source": [
    "### 3.2 Assumption Check"
   ]
  },
  {
   "cell_type": "markdown",
   "id": "d3f3c0a8",
   "metadata": {},
   "source": [
    "#### ======================================================================================================="
   ]
  },
  {
   "cell_type": "markdown",
   "id": "012f8581",
   "metadata": {},
   "source": [
    "### Reference data for understanding the Assumptions better"
   ]
  },
  {
   "cell_type": "code",
   "execution_count": 6,
   "id": "eda9d386",
   "metadata": {},
   "outputs": [],
   "source": [
    "import numpy as np\n",
    "import seaborn as sns\n",
    "from matplotlib import pyplot as plt"
   ]
  },
  {
   "cell_type": "code",
   "execution_count": 7,
   "id": "7df6ca1c",
   "metadata": {},
   "outputs": [
    {
     "data": {
      "text/plain": [
       "(81, 5)"
      ]
     },
     "execution_count": 7,
     "metadata": {},
     "output_type": "execute_result"
    }
   ],
   "source": [
    "cars_data.shape"
   ]
  },
  {
   "cell_type": "code",
   "execution_count": 8,
   "id": "9d52d49c",
   "metadata": {},
   "outputs": [],
   "source": [
    "n_observations = 81\n",
    "X = np.random.randn(n_observations)\n",
    "y = X * 10 + np.random.randn(n_observations) * 2"
   ]
  },
  {
   "cell_type": "code",
   "execution_count": 9,
   "id": "bce27c14",
   "metadata": {},
   "outputs": [
    {
     "data": {
      "text/html": [
       "<div>\n",
       "<style scoped>\n",
       "    .dataframe tbody tr th:only-of-type {\n",
       "        vertical-align: middle;\n",
       "    }\n",
       "\n",
       "    .dataframe tbody tr th {\n",
       "        vertical-align: top;\n",
       "    }\n",
       "\n",
       "    .dataframe thead th {\n",
       "        text-align: right;\n",
       "    }\n",
       "</style>\n",
       "<table border=\"1\" class=\"dataframe\">\n",
       "  <thead>\n",
       "    <tr style=\"text-align: right;\">\n",
       "      <th></th>\n",
       "      <th>X</th>\n",
       "      <th>y</th>\n",
       "    </tr>\n",
       "  </thead>\n",
       "  <tbody>\n",
       "    <tr>\n",
       "      <th>0</th>\n",
       "      <td>0.754886</td>\n",
       "      <td>4.826150</td>\n",
       "    </tr>\n",
       "    <tr>\n",
       "      <th>1</th>\n",
       "      <td>0.430967</td>\n",
       "      <td>3.721025</td>\n",
       "    </tr>\n",
       "    <tr>\n",
       "      <th>2</th>\n",
       "      <td>0.143919</td>\n",
       "      <td>1.854724</td>\n",
       "    </tr>\n",
       "    <tr>\n",
       "      <th>3</th>\n",
       "      <td>-1.017543</td>\n",
       "      <td>-9.880081</td>\n",
       "    </tr>\n",
       "    <tr>\n",
       "      <th>4</th>\n",
       "      <td>-0.383912</td>\n",
       "      <td>-3.097764</td>\n",
       "    </tr>\n",
       "    <tr>\n",
       "      <th>...</th>\n",
       "      <td>...</td>\n",
       "      <td>...</td>\n",
       "    </tr>\n",
       "    <tr>\n",
       "      <th>76</th>\n",
       "      <td>-0.565750</td>\n",
       "      <td>-1.859978</td>\n",
       "    </tr>\n",
       "    <tr>\n",
       "      <th>77</th>\n",
       "      <td>1.233012</td>\n",
       "      <td>12.122573</td>\n",
       "    </tr>\n",
       "    <tr>\n",
       "      <th>78</th>\n",
       "      <td>1.006075</td>\n",
       "      <td>8.258853</td>\n",
       "    </tr>\n",
       "    <tr>\n",
       "      <th>79</th>\n",
       "      <td>-0.713671</td>\n",
       "      <td>-8.661214</td>\n",
       "    </tr>\n",
       "    <tr>\n",
       "      <th>80</th>\n",
       "      <td>0.566350</td>\n",
       "      <td>8.330541</td>\n",
       "    </tr>\n",
       "  </tbody>\n",
       "</table>\n",
       "<p>81 rows × 2 columns</p>\n",
       "</div>"
      ],
      "text/plain": [
       "           X          y\n",
       "0   0.754886   4.826150\n",
       "1   0.430967   3.721025\n",
       "2   0.143919   1.854724\n",
       "3  -1.017543  -9.880081\n",
       "4  -0.383912  -3.097764\n",
       "..       ...        ...\n",
       "76 -0.565750  -1.859978\n",
       "77  1.233012  12.122573\n",
       "78  1.006075   8.258853\n",
       "79 -0.713671  -8.661214\n",
       "80  0.566350   8.330541\n",
       "\n",
       "[81 rows x 2 columns]"
      ]
     },
     "execution_count": 9,
     "metadata": {},
     "output_type": "execute_result"
    }
   ],
   "source": [
    "demo_data = pd.DataFrame(data = [X,y]).T\n",
    "demo_data.columns = ['X','y']\n",
    "demo_data"
   ]
  },
  {
   "cell_type": "markdown",
   "id": "7d899593",
   "metadata": {},
   "source": [
    "### 1. Check for Linearity - Passed"
   ]
  },
  {
   "cell_type": "code",
   "execution_count": 10,
   "id": "6d9c736c",
   "metadata": {},
   "outputs": [
    {
     "data": {
      "image/png": "[encoded data removed]",
      "text/plain": [
       "<Figure size 360x360 with 1 Axes>"
      ]
     },
     "metadata": {
      "needs_background": "light"
     },
     "output_type": "display_data"
    }
   ],
   "source": [
    "sns.lmplot(x='X',y='y',data=demo_data)\n",
    "plt.show()"
   ]
  },
  {
   "cell_type": "markdown",
   "id": "a48e0d48",
   "metadata": {},
   "source": [
    "### 2. Check for Normality - Passed\n",
    "\n",
    "* Distplot\n",
    "* qqplot"
   ]
  },
  {
   "cell_type": "code",
   "execution_count": 11,
   "id": "d2d442d3",
   "metadata": {},
   "outputs": [],
   "source": [
    "import warnings\n",
    "warnings.filterwarnings('ignore')"
   ]
  },
  {
   "cell_type": "markdown",
   "id": "d7931437",
   "metadata": {},
   "source": [
    "#### Normality check with Distplot"
   ]
  },
  {
   "cell_type": "code",
   "execution_count": 12,
   "id": "3aec08ff",
   "metadata": {},
   "outputs": [
    {
     "data": {
      "image/png": "[encoded data removed]",
      "text/plain": [
       "<Figure size 432x288 with 1 Axes>"
      ]
     },
     "metadata": {
      "needs_background": "light"
     },
     "output_type": "display_data"
    }
   ],
   "source": [
    "sns.distplot(a = demo_data['X'])\n",
    "plt.show()"
   ]
  },
  {
   "cell_type": "markdown",
   "id": "b75c5ccd",
   "metadata": {},
   "source": [
    "#### Normality check with qqplot/probplot"
   ]
  },
  {
   "cell_type": "code",
   "execution_count": 13,
   "id": "fcdd8680",
   "metadata": {},
   "outputs": [],
   "source": [
    "from scipy import stats"
   ]
  },
  {
   "cell_type": "code",
   "execution_count": 14,
   "id": "7ae96f11",
   "metadata": {},
   "outputs": [
    {
     "data": {
      "image/png": "[encoded data removed]",
      "text/plain": [
       "<Figure size 432x288 with 1 Axes>"
      ]
     },
     "metadata": {
      "needs_background": "light"
     },
     "output_type": "display_data"
    }
   ],
   "source": [
    "stats.probplot(x = demo_data['X'],dist='norm',plot=plt)\n",
    "plt.show()"
   ]
  },
  {
   "cell_type": "markdown",
   "id": "c08436d5",
   "metadata": {},
   "source": [
    "### 3. No Multicollinearity - Passed\n",
    "\n",
    "It can be checked with Correlation Matrix."
   ]
  },
  {
   "cell_type": "markdown",
   "id": "f6b59c35",
   "metadata": {},
   "source": [
    "### 4. No Homoscedasticity - Passed\n",
    "\n",
    "#### Note: \n",
    "\n",
    "* This can be checked post model training.\n",
    "* All the input features should be in similar scale for this test."
   ]
  },
  {
   "cell_type": "markdown",
   "id": "dcf99fbf",
   "metadata": {},
   "source": [
    "#### Model Building\n",
    "\n",
    "1. Separate input and output features\n",
    "2. We go for train test split."
   ]
  },
  {
   "cell_type": "code",
   "execution_count": 15,
   "id": "ab45ba48",
   "metadata": {},
   "outputs": [],
   "source": [
    "X = demo_data[['X']]\n",
    "y = demo_data[['y']]"
   ]
  },
  {
   "cell_type": "markdown",
   "id": "3f6b49ee",
   "metadata": {},
   "source": [
    "#### Model Training"
   ]
  },
  {
   "cell_type": "code",
   "execution_count": 16,
   "id": "0684924b",
   "metadata": {},
   "outputs": [
    {
     "data": {
      "text/plain": [
       "LinearRegression()"
      ]
     },
     "execution_count": 16,
     "metadata": {},
     "output_type": "execute_result"
    }
   ],
   "source": [
    "from sklearn.linear_model import LinearRegression\n",
    "linear_model = LinearRegression()\n",
    "linear_model.fit(X,y) #Training"
   ]
  },
  {
   "cell_type": "markdown",
   "id": "b85ed2be",
   "metadata": {},
   "source": [
    "#### Model Testing"
   ]
  },
  {
   "cell_type": "code",
   "execution_count": 17,
   "id": "1da64e2e",
   "metadata": {},
   "outputs": [],
   "source": [
    "y_pred_demo = linear_model.predict(X)"
   ]
  },
  {
   "cell_type": "markdown",
   "id": "21f359cc",
   "metadata": {},
   "source": [
    "#### Now let's check for Homoscedasticity"
   ]
  },
  {
   "cell_type": "code",
   "execution_count": 18,
   "id": "6a3f022d",
   "metadata": {},
   "outputs": [
    {
     "data": {
      "text/html": [
       "<div>\n",
       "<style scoped>\n",
       "    .dataframe tbody tr th:only-of-type {\n",
       "        vertical-align: middle;\n",
       "    }\n",
       "\n",
       "    .dataframe tbody tr th {\n",
       "        vertical-align: top;\n",
       "    }\n",
       "\n",
       "    .dataframe thead th {\n",
       "        text-align: right;\n",
       "    }\n",
       "</style>\n",
       "<table border=\"1\" class=\"dataframe\">\n",
       "  <thead>\n",
       "    <tr style=\"text-align: right;\">\n",
       "      <th></th>\n",
       "      <th>y</th>\n",
       "    </tr>\n",
       "  </thead>\n",
       "  <tbody>\n",
       "    <tr>\n",
       "      <th>0</th>\n",
       "      <td>4.826150</td>\n",
       "    </tr>\n",
       "    <tr>\n",
       "      <th>1</th>\n",
       "      <td>3.721025</td>\n",
       "    </tr>\n",
       "    <tr>\n",
       "      <th>2</th>\n",
       "      <td>1.854724</td>\n",
       "    </tr>\n",
       "    <tr>\n",
       "      <th>3</th>\n",
       "      <td>-9.880081</td>\n",
       "    </tr>\n",
       "    <tr>\n",
       "      <th>4</th>\n",
       "      <td>-3.097764</td>\n",
       "    </tr>\n",
       "    <tr>\n",
       "      <th>...</th>\n",
       "      <td>...</td>\n",
       "    </tr>\n",
       "    <tr>\n",
       "      <th>76</th>\n",
       "      <td>-1.859978</td>\n",
       "    </tr>\n",
       "    <tr>\n",
       "      <th>77</th>\n",
       "      <td>12.122573</td>\n",
       "    </tr>\n",
       "    <tr>\n",
       "      <th>78</th>\n",
       "      <td>8.258853</td>\n",
       "    </tr>\n",
       "    <tr>\n",
       "      <th>79</th>\n",
       "      <td>-8.661214</td>\n",
       "    </tr>\n",
       "    <tr>\n",
       "      <th>80</th>\n",
       "      <td>8.330541</td>\n",
       "    </tr>\n",
       "  </tbody>\n",
       "</table>\n",
       "<p>81 rows × 1 columns</p>\n",
       "</div>"
      ],
      "text/plain": [
       "            y\n",
       "0    4.826150\n",
       "1    3.721025\n",
       "2    1.854724\n",
       "3   -9.880081\n",
       "4   -3.097764\n",
       "..        ...\n",
       "76  -1.859978\n",
       "77  12.122573\n",
       "78   8.258853\n",
       "79  -8.661214\n",
       "80   8.330541\n",
       "\n",
       "[81 rows x 1 columns]"
      ]
     },
     "execution_count": 18,
     "metadata": {},
     "output_type": "execute_result"
    }
   ],
   "source": [
    "y"
   ]
  },
  {
   "cell_type": "code",
   "execution_count": 19,
   "id": "7bc86184",
   "metadata": {},
   "outputs": [
    {
     "data": {
      "text/plain": [
       "array([[  7.16604801],\n",
       "       [  4.05055495],\n",
       "       [  1.28968573],\n",
       "       [ -9.88140247],\n",
       "       [ -3.78706189],\n",
       "       [ 17.96279036],\n",
       "       [  0.31678213],\n",
       "       [  1.39401853],\n",
       "       [-14.00732521],\n",
       "       [  3.16450545],\n",
       "       [  8.02337788],\n",
       "       [ -7.94705651],\n",
       "       [ -0.4283082 ],\n",
       "       [-10.95703448],\n",
       "       [ -2.48382555],\n",
       "       [-20.79007702],\n",
       "       [ -8.99186406],\n",
       "       [  4.17120368],\n",
       "       [  2.40817833],\n",
       "       [  2.5880921 ],\n",
       "       [ -4.18185437],\n",
       "       [ -4.05535064],\n",
       "       [ 16.46248906],\n",
       "       [-11.12369211],\n",
       "       [  0.35223284],\n",
       "       [  0.17561433],\n",
       "       [ 11.16668333],\n",
       "       [  0.05899813],\n",
       "       [ -0.30931592],\n",
       "       [ -8.21064672],\n",
       "       [  5.07116149],\n",
       "       [  2.23062743],\n",
       "       [ -5.12979172],\n",
       "       [ -1.19796496],\n",
       "       [ -5.70283828],\n",
       "       [  5.64289686],\n",
       "       [  2.71791324],\n",
       "       [-11.92552055],\n",
       "       [ 12.99415858],\n",
       "       [ 11.68461554],\n",
       "       [  7.19232529],\n",
       "       [  8.70454085],\n",
       "       [  2.20606277],\n",
       "       [  1.72843132],\n",
       "       [  3.40021309],\n",
       "       [  4.68789193],\n",
       "       [ -4.21440409],\n",
       "       [  7.07047544],\n",
       "       [ -8.09273753],\n",
       "       [  6.77898212],\n",
       "       [-20.9828321 ],\n",
       "       [ 10.99580828],\n",
       "       [ -9.11185124],\n",
       "       [ 15.20137281],\n",
       "       [-15.81226058],\n",
       "       [ -8.95711967],\n",
       "       [ 13.71734983],\n",
       "       [ -2.39807946],\n",
       "       [-15.53941113],\n",
       "       [ -3.52200918],\n",
       "       [ -2.15165143],\n",
       "       [  6.20554979],\n",
       "       [ -3.77394968],\n",
       "       [ -0.92380926],\n",
       "       [ -1.86046938],\n",
       "       [  8.1272763 ],\n",
       "       [ 11.07458747],\n",
       "       [ 11.90046406],\n",
       "       [ -9.38186502],\n",
       "       [ -4.68232728],\n",
       "       [ -8.21441544],\n",
       "       [ -2.03933443],\n",
       "       [  4.7011491 ],\n",
       "       [ 10.65833222],\n",
       "       [ 16.90757658],\n",
       "       [  8.2608945 ],\n",
       "       [ -5.53599989],\n",
       "       [ 11.76472981],\n",
       "       [  9.58201469],\n",
       "       [ -6.95872144],\n",
       "       [  5.35268349]])"
      ]
     },
     "execution_count": 19,
     "metadata": {},
     "output_type": "execute_result"
    }
   ],
   "source": [
    "y_pred_demo"
   ]
  },
  {
   "cell_type": "code",
   "execution_count": 20,
   "id": "ff1330f8",
   "metadata": {},
   "outputs": [
    {
     "data": {
      "text/html": [
       "<div>\n",
       "<style scoped>\n",
       "    .dataframe tbody tr th:only-of-type {\n",
       "        vertical-align: middle;\n",
       "    }\n",
       "\n",
       "    .dataframe tbody tr th {\n",
       "        vertical-align: top;\n",
       "    }\n",
       "\n",
       "    .dataframe thead th {\n",
       "        text-align: right;\n",
       "    }\n",
       "</style>\n",
       "<table border=\"1\" class=\"dataframe\">\n",
       "  <thead>\n",
       "    <tr style=\"text-align: right;\">\n",
       "      <th></th>\n",
       "      <th>y</th>\n",
       "    </tr>\n",
       "  </thead>\n",
       "  <tbody>\n",
       "    <tr>\n",
       "      <th>0</th>\n",
       "      <td>-2.339898</td>\n",
       "    </tr>\n",
       "    <tr>\n",
       "      <th>1</th>\n",
       "      <td>-0.329530</td>\n",
       "    </tr>\n",
       "    <tr>\n",
       "      <th>2</th>\n",
       "      <td>0.565038</td>\n",
       "    </tr>\n",
       "    <tr>\n",
       "      <th>3</th>\n",
       "      <td>0.001322</td>\n",
       "    </tr>\n",
       "    <tr>\n",
       "      <th>4</th>\n",
       "      <td>0.689298</td>\n",
       "    </tr>\n",
       "    <tr>\n",
       "      <th>...</th>\n",
       "      <td>...</td>\n",
       "    </tr>\n",
       "    <tr>\n",
       "      <th>76</th>\n",
       "      <td>3.676022</td>\n",
       "    </tr>\n",
       "    <tr>\n",
       "      <th>77</th>\n",
       "      <td>0.357843</td>\n",
       "    </tr>\n",
       "    <tr>\n",
       "      <th>78</th>\n",
       "      <td>-1.323162</td>\n",
       "    </tr>\n",
       "    <tr>\n",
       "      <th>79</th>\n",
       "      <td>-1.702493</td>\n",
       "    </tr>\n",
       "    <tr>\n",
       "      <th>80</th>\n",
       "      <td>2.977857</td>\n",
       "    </tr>\n",
       "  </tbody>\n",
       "</table>\n",
       "<p>81 rows × 1 columns</p>\n",
       "</div>"
      ],
      "text/plain": [
       "           y\n",
       "0  -2.339898\n",
       "1  -0.329530\n",
       "2   0.565038\n",
       "3   0.001322\n",
       "4   0.689298\n",
       "..       ...\n",
       "76  3.676022\n",
       "77  0.357843\n",
       "78 -1.323162\n",
       "79 -1.702493\n",
       "80  2.977857\n",
       "\n",
       "[81 rows x 1 columns]"
      ]
     },
     "execution_count": 20,
     "metadata": {},
     "output_type": "execute_result"
    }
   ],
   "source": [
    "#error = actual output - predicted\n",
    "error = y - y_pred_demo\n",
    "error"
   ]
  },
  {
   "cell_type": "code",
   "execution_count": 21,
   "id": "dff0924e",
   "metadata": {},
   "outputs": [
    {
     "data": {
      "image/png": "[encoded data removed]",
      "text/plain": [
       "<Figure size 432x288 with 1 Axes>"
      ]
     },
     "metadata": {
      "needs_background": "light"
     },
     "output_type": "display_data"
    }
   ],
   "source": [
    "plt.scatter(x = demo_data['X'],y = error)\n",
    "plt.xlabel('X')\n",
    "plt.ylabel('Error')\n",
    "plt.title('Homoscedasticity Check - Input Vs Error')\n",
    "plt.show()"
   ]
  },
  {
   "cell_type": "markdown",
   "id": "2c643baa",
   "metadata": {},
   "source": [
    "### 5. No Autoregression - Passed"
   ]
  },
  {
   "cell_type": "markdown",
   "id": "406b0868",
   "metadata": {},
   "source": [
    "### 6. Check for Zero Residual Mean - Passed"
   ]
  },
  {
   "cell_type": "code",
   "execution_count": 22,
   "id": "997d734f",
   "metadata": {},
   "outputs": [
    {
     "data": {
      "image/png": "[encoded data removed]",
      "text/plain": [
       "<Figure size 432x288 with 1 Axes>"
      ]
     },
     "metadata": {
      "needs_background": "light"
     },
     "output_type": "display_data"
    }
   ],
   "source": [
    "plt.scatter(x = y,y = y_pred_demo)\n",
    "plt.xlabel('Actual Output')\n",
    "plt.ylabel('Predicted Output')\n",
    "plt.title('Zero Residual Mean - Actual Vs Predicted')\n",
    "plt.show()"
   ]
  },
  {
   "cell_type": "markdown",
   "id": "5ae6a770",
   "metadata": {},
   "source": [
    "### ======================================================================================="
   ]
  },
  {
   "cell_type": "markdown",
   "id": "1a5f8262",
   "metadata": {},
   "source": [
    "### 3.2 Assumption Check for Cars data"
   ]
  },
  {
   "cell_type": "markdown",
   "id": "056d7beb",
   "metadata": {},
   "source": [
    "#### 1. Check for Linearity"
   ]
  },
  {
   "cell_type": "code",
   "execution_count": 23,
   "id": "67e4fe94",
   "metadata": {},
   "outputs": [
    {
     "data": {
      "text/html": [
       "<div>\n",
       "<style scoped>\n",
       "    .dataframe tbody tr th:only-of-type {\n",
       "        vertical-align: middle;\n",
       "    }\n",
       "\n",
       "    .dataframe tbody tr th {\n",
       "        vertical-align: top;\n",
       "    }\n",
       "\n",
       "    .dataframe thead th {\n",
       "        text-align: right;\n",
       "    }\n",
       "</style>\n",
       "<table border=\"1\" class=\"dataframe\">\n",
       "  <thead>\n",
       "    <tr style=\"text-align: right;\">\n",
       "      <th></th>\n",
       "      <th>HP</th>\n",
       "      <th>MPG</th>\n",
       "      <th>VOL</th>\n",
       "      <th>SP</th>\n",
       "      <th>WT</th>\n",
       "    </tr>\n",
       "  </thead>\n",
       "  <tbody>\n",
       "    <tr>\n",
       "      <th>0</th>\n",
       "      <td>49</td>\n",
       "      <td>53.700681</td>\n",
       "      <td>89</td>\n",
       "      <td>104.185353</td>\n",
       "      <td>28.762059</td>\n",
       "    </tr>\n",
       "    <tr>\n",
       "      <th>1</th>\n",
       "      <td>55</td>\n",
       "      <td>50.013401</td>\n",
       "      <td>92</td>\n",
       "      <td>105.461264</td>\n",
       "      <td>30.466833</td>\n",
       "    </tr>\n",
       "    <tr>\n",
       "      <th>2</th>\n",
       "      <td>55</td>\n",
       "      <td>50.013401</td>\n",
       "      <td>92</td>\n",
       "      <td>105.461264</td>\n",
       "      <td>30.193597</td>\n",
       "    </tr>\n",
       "    <tr>\n",
       "      <th>3</th>\n",
       "      <td>70</td>\n",
       "      <td>45.696322</td>\n",
       "      <td>92</td>\n",
       "      <td>113.461264</td>\n",
       "      <td>30.632114</td>\n",
       "    </tr>\n",
       "    <tr>\n",
       "      <th>4</th>\n",
       "      <td>53</td>\n",
       "      <td>50.504232</td>\n",
       "      <td>92</td>\n",
       "      <td>104.461264</td>\n",
       "      <td>29.889149</td>\n",
       "    </tr>\n",
       "  </tbody>\n",
       "</table>\n",
       "</div>"
      ],
      "text/plain": [
       "   HP        MPG  VOL          SP         WT\n",
       "0  49  53.700681   89  104.185353  28.762059\n",
       "1  55  50.013401   92  105.461264  30.466833\n",
       "2  55  50.013401   92  105.461264  30.193597\n",
       "3  70  45.696322   92  113.461264  30.632114\n",
       "4  53  50.504232   92  104.461264  29.889149"
      ]
     },
     "execution_count": 23,
     "metadata": {},
     "output_type": "execute_result"
    }
   ],
   "source": [
    "cars_data.head()"
   ]
  },
  {
   "cell_type": "code",
   "execution_count": 24,
   "id": "71f3cec6",
   "metadata": {},
   "outputs": [
    {
     "data": {
      "image/png": "[encoded data removed]",
      "text/plain": [
       "<Figure size 360x360 with 1 Axes>"
      ]
     },
     "metadata": {
      "needs_background": "light"
     },
     "output_type": "display_data"
    }
   ],
   "source": [
    "sns.lmplot(x = 'HP',y = 'MPG',data=cars_data)\n",
    "plt.show()"
   ]
  },
  {
   "cell_type": "code",
   "execution_count": 25,
   "id": "c2615593",
   "metadata": {},
   "outputs": [
    {
     "data": {
      "image/png": "[encoded data removed]",
      "text/plain": [
       "<Figure size 360x360 with 1 Axes>"
      ]
     },
     "metadata": {
      "needs_background": "light"
     },
     "output_type": "display_data"
    }
   ],
   "source": [
    "sns.lmplot(x = 'VOL',y = 'MPG',data=cars_data)\n",
    "plt.show()"
   ]
  },
  {
   "cell_type": "code",
   "execution_count": 26,
   "id": "2ccd2f34",
   "metadata": {},
   "outputs": [
    {
     "data": {
      "image/png": "[encoded data removed]",
      "text/plain": [
       "<Figure size 360x360 with 1 Axes>"
      ]
     },
     "metadata": {
      "needs_background": "light"
     },
     "output_type": "display_data"
    }
   ],
   "source": [
    "sns.lmplot(x = 'SP',y = 'MPG',data=cars_data)\n",
    "plt.show()"
   ]
  },
  {
   "cell_type": "code",
   "execution_count": 27,
   "id": "9904955f",
   "metadata": {},
   "outputs": [
    {
     "data": {
      "image/png": "[encoded data removed]",
      "text/plain": [
       "<Figure size 360x360 with 1 Axes>"
      ]
     },
     "metadata": {
      "needs_background": "light"
     },
     "output_type": "display_data"
    }
   ],
   "source": [
    "sns.lmplot(x = 'WT',y = 'MPG',data=cars_data)\n",
    "plt.show()"
   ]
  },
  {
   "cell_type": "markdown",
   "id": "b45febfd",
   "metadata": {},
   "source": [
    "#### Observation - None of my input features is linearly related with the output. Linearity Test failed."
   ]
  },
  {
   "cell_type": "markdown",
   "id": "e62694ee",
   "metadata": {},
   "source": [
    "### 2. Check for Normality"
   ]
  },
  {
   "cell_type": "markdown",
   "id": "7b1a56c5",
   "metadata": {},
   "source": [
    "#### Normality Test with Distplot"
   ]
  },
  {
   "cell_type": "code",
   "execution_count": 28,
   "id": "e2e91230",
   "metadata": {},
   "outputs": [
    {
     "data": {
      "image/png": "[encoded data removed]",
      "text/plain": [
       "<Figure size 432x288 with 1 Axes>"
      ]
     },
     "metadata": {
      "needs_background": "light"
     },
     "output_type": "display_data"
    }
   ],
   "source": [
    "sns.distplot(x = cars_data['HP'],hist=False)\n",
    "plt.show()"
   ]
  },
  {
   "cell_type": "code",
   "execution_count": 29,
   "id": "840990ec",
   "metadata": {},
   "outputs": [
    {
     "data": {
      "image/png": "[encoded data removed]",
      "text/plain": [
       "<Figure size 432x288 with 1 Axes>"
      ]
     },
     "metadata": {
      "needs_background": "light"
     },
     "output_type": "display_data"
    }
   ],
   "source": [
    "sns.distplot(x = cars_data['VOL'],hist=False)\n",
    "plt.show()"
   ]
  },
  {
   "cell_type": "code",
   "execution_count": 30,
   "id": "fb523c51",
   "metadata": {},
   "outputs": [
    {
     "data": {
      "image/png": "[encoded data removed]",
      "text/plain": [
       "<Figure size 432x288 with 1 Axes>"
      ]
     },
     "metadata": {
      "needs_background": "light"
     },
     "output_type": "display_data"
    }
   ],
   "source": [
    "sns.distplot(x = cars_data['SP'],hist=False)\n",
    "plt.show()"
   ]
  },
  {
   "cell_type": "code",
   "execution_count": 31,
   "id": "d24ccac7",
   "metadata": {},
   "outputs": [
    {
     "data": {
      "image/png": "[encoded data removed]",
      "text/plain": [
       "<Figure size 432x288 with 1 Axes>"
      ]
     },
     "metadata": {
      "needs_background": "light"
     },
     "output_type": "display_data"
    }
   ],
   "source": [
    "sns.distplot(x = cars_data['WT'],hist=False)\n",
    "plt.show()"
   ]
  },
  {
   "cell_type": "markdown",
   "id": "9dfca587",
   "metadata": {},
   "source": [
    "#### Observation - None of my input features is following the property of Normal Distribution. Normality Test failed."
   ]
  },
  {
   "cell_type": "markdown",
   "id": "4cb23b68",
   "metadata": {},
   "source": [
    "#### Normality Test with qqplot"
   ]
  },
  {
   "cell_type": "code",
   "execution_count": 32,
   "id": "70632c01",
   "metadata": {},
   "outputs": [
    {
     "data": {
      "image/png": "[encoded data removed]",
      "text/plain": [
       "<Figure size 432x288 with 1 Axes>"
      ]
     },
     "metadata": {
      "needs_background": "light"
     },
     "output_type": "display_data"
    }
   ],
   "source": [
    "stats.probplot(x = cars_data['HP'],dist='norm',plot=plt)\n",
    "plt.show()"
   ]
  },
  {
   "cell_type": "code",
   "execution_count": 33,
   "id": "712df595",
   "metadata": {},
   "outputs": [
    {
     "data": {
      "image/png": "[encoded data removed]",
      "text/plain": [
       "<Figure size 432x288 with 1 Axes>"
      ]
     },
     "metadata": {
      "needs_background": "light"
     },
     "output_type": "display_data"
    }
   ],
   "source": [
    "stats.probplot(x = cars_data['VOL'],dist='norm',plot=plt)\n",
    "plt.show()"
   ]
  },
  {
   "cell_type": "code",
   "execution_count": 34,
   "id": "9a73b44c",
   "metadata": {},
   "outputs": [
    {
     "data": {
      "image/png": "[encoded data removed]",
      "text/plain": [
       "<Figure size 432x288 with 1 Axes>"
      ]
     },
     "metadata": {
      "needs_background": "light"
     },
     "output_type": "display_data"
    }
   ],
   "source": [
    "stats.probplot(x = cars_data['WT'],dist='norm',plot=plt)\n",
    "plt.show()"
   ]
  },
  {
   "cell_type": "code",
   "execution_count": 35,
   "id": "fdac0c66",
   "metadata": {},
   "outputs": [
    {
     "data": {
      "image/png": "[encoded data removed]",
      "text/plain": [
       "<Figure size 432x288 with 1 Axes>"
      ]
     },
     "metadata": {
      "needs_background": "light"
     },
     "output_type": "display_data"
    }
   ],
   "source": [
    "stats.probplot(x = cars_data['SP'],dist='norm',plot=plt)\n",
    "plt.show()"
   ]
  },
  {
   "cell_type": "markdown",
   "id": "1956b9ad",
   "metadata": {},
   "source": [
    "#### Observation - None of my input features is following the property of Normal Distribution. Normality Test failed."
   ]
  },
  {
   "cell_type": "markdown",
   "id": "43a71d46",
   "metadata": {},
   "source": [
    "### 3. Check for Multicollinearity"
   ]
  },
  {
   "cell_type": "code",
   "execution_count": 36,
   "id": "b7492e46",
   "metadata": {},
   "outputs": [
    {
     "data": {
      "text/html": [
       "<div>\n",
       "<style scoped>\n",
       "    .dataframe tbody tr th:only-of-type {\n",
       "        vertical-align: middle;\n",
       "    }\n",
       "\n",
       "    .dataframe tbody tr th {\n",
       "        vertical-align: top;\n",
       "    }\n",
       "\n",
       "    .dataframe thead th {\n",
       "        text-align: right;\n",
       "    }\n",
       "</style>\n",
       "<table border=\"1\" class=\"dataframe\">\n",
       "  <thead>\n",
       "    <tr style=\"text-align: right;\">\n",
       "      <th></th>\n",
       "      <th>HP</th>\n",
       "      <th>MPG</th>\n",
       "      <th>VOL</th>\n",
       "      <th>SP</th>\n",
       "      <th>WT</th>\n",
       "    </tr>\n",
       "  </thead>\n",
       "  <tbody>\n",
       "    <tr>\n",
       "      <th>HP</th>\n",
       "      <td>1.00</td>\n",
       "      <td>-0.73</td>\n",
       "      <td>0.08</td>\n",
       "      <td>0.97</td>\n",
       "      <td>0.08</td>\n",
       "    </tr>\n",
       "    <tr>\n",
       "      <th>MPG</th>\n",
       "      <td>-0.73</td>\n",
       "      <td>1.00</td>\n",
       "      <td>-0.53</td>\n",
       "      <td>-0.69</td>\n",
       "      <td>-0.53</td>\n",
       "    </tr>\n",
       "    <tr>\n",
       "      <th>VOL</th>\n",
       "      <td>0.08</td>\n",
       "      <td>-0.53</td>\n",
       "      <td>1.00</td>\n",
       "      <td>0.10</td>\n",
       "      <td>1.00</td>\n",
       "    </tr>\n",
       "    <tr>\n",
       "      <th>SP</th>\n",
       "      <td>0.97</td>\n",
       "      <td>-0.69</td>\n",
       "      <td>0.10</td>\n",
       "      <td>1.00</td>\n",
       "      <td>0.10</td>\n",
       "    </tr>\n",
       "    <tr>\n",
       "      <th>WT</th>\n",
       "      <td>0.08</td>\n",
       "      <td>-0.53</td>\n",
       "      <td>1.00</td>\n",
       "      <td>0.10</td>\n",
       "      <td>1.00</td>\n",
       "    </tr>\n",
       "  </tbody>\n",
       "</table>\n",
       "</div>"
      ],
      "text/plain": [
       "       HP   MPG   VOL    SP    WT\n",
       "HP   1.00 -0.73  0.08  0.97  0.08\n",
       "MPG -0.73  1.00 -0.53 -0.69 -0.53\n",
       "VOL  0.08 -0.53  1.00  0.10  1.00\n",
       "SP   0.97 -0.69  0.10  1.00  0.10\n",
       "WT   0.08 -0.53  1.00  0.10  1.00"
      ]
     },
     "execution_count": 36,
     "metadata": {},
     "output_type": "execute_result"
    }
   ],
   "source": [
    "corr_matrix = cars_data.corr().round(2)\n",
    "corr_matrix"
   ]
  },
  {
   "cell_type": "code",
   "execution_count": 37,
   "id": "c5c23db9",
   "metadata": {},
   "outputs": [
    {
     "data": {
      "image/png": "[encoded data removed]",
      "text/plain": [
       "<Figure size 432x288 with 2 Axes>"
      ]
     },
     "metadata": {
      "needs_background": "light"
     },
     "output_type": "display_data"
    }
   ],
   "source": [
    "sns.heatmap(data = corr_matrix,annot=True)\n",
    "plt.title('Check for Multicollinearity')\n",
    "plt.show()"
   ]
  },
  {
   "cell_type": "markdown",
   "id": "83bf37ee",
   "metadata": {},
   "source": [
    "#### Observation - \n",
    "\n",
    "* Collinearity between SP & HP.\n",
    "* Collinearity between VOL & WT.\n",
    "\n",
    "##### Note: We have to treat it properly before we build the model."
   ]
  },
  {
   "cell_type": "markdown",
   "id": "9c4f2ed9",
   "metadata": {},
   "source": [
    "### 4. No Autoregression - Passed."
   ]
  },
  {
   "cell_type": "markdown",
   "id": "857693b2",
   "metadata": {},
   "source": [
    "### 5. Homoscedasticity Check"
   ]
  },
  {
   "cell_type": "markdown",
   "id": "f15fcb9a",
   "metadata": {},
   "source": [
    "#### Note: \n",
    "\n",
    "* This can be checked post model training.\n",
    "* All the input features should be in similar scale for this test."
   ]
  },
  {
   "cell_type": "markdown",
   "id": "a97779b5",
   "metadata": {},
   "source": [
    "#### 5.1 Make all the input features in a similar Scale\n",
    "\n",
    "Techniques are:\n",
    "\n",
    "* Standard Scaler - Mean = 0, SD = 1.\n",
    "* MinMax Scaler   - 0 to 1\n",
    "* Robust Scaler   - (Self Exploration)"
   ]
  },
  {
   "cell_type": "markdown",
   "id": "3c2dcfaf",
   "metadata": {},
   "source": [
    "##### Model Building"
   ]
  },
  {
   "cell_type": "code",
   "execution_count": 38,
   "id": "cf3da6a3",
   "metadata": {},
   "outputs": [],
   "source": [
    "X = cars_data.drop(labels='MPG',axis=1)\n",
    "y = cars_data[['MPG']]"
   ]
  },
  {
   "cell_type": "code",
   "execution_count": 39,
   "id": "5f9470aa",
   "metadata": {},
   "outputs": [
    {
     "data": {
      "text/html": [
       "<div>\n",
       "<style scoped>\n",
       "    .dataframe tbody tr th:only-of-type {\n",
       "        vertical-align: middle;\n",
       "    }\n",
       "\n",
       "    .dataframe tbody tr th {\n",
       "        vertical-align: top;\n",
       "    }\n",
       "\n",
       "    .dataframe thead th {\n",
       "        text-align: right;\n",
       "    }\n",
       "</style>\n",
       "<table border=\"1\" class=\"dataframe\">\n",
       "  <thead>\n",
       "    <tr style=\"text-align: right;\">\n",
       "      <th></th>\n",
       "      <th>HP</th>\n",
       "      <th>VOL</th>\n",
       "      <th>SP</th>\n",
       "      <th>WT</th>\n",
       "    </tr>\n",
       "  </thead>\n",
       "  <tbody>\n",
       "    <tr>\n",
       "      <th>0</th>\n",
       "      <td>49</td>\n",
       "      <td>89</td>\n",
       "      <td>104.185353</td>\n",
       "      <td>28.762059</td>\n",
       "    </tr>\n",
       "    <tr>\n",
       "      <th>1</th>\n",
       "      <td>55</td>\n",
       "      <td>92</td>\n",
       "      <td>105.461264</td>\n",
       "      <td>30.466833</td>\n",
       "    </tr>\n",
       "    <tr>\n",
       "      <th>2</th>\n",
       "      <td>55</td>\n",
       "      <td>92</td>\n",
       "      <td>105.461264</td>\n",
       "      <td>30.193597</td>\n",
       "    </tr>\n",
       "    <tr>\n",
       "      <th>3</th>\n",
       "      <td>70</td>\n",
       "      <td>92</td>\n",
       "      <td>113.461264</td>\n",
       "      <td>30.632114</td>\n",
       "    </tr>\n",
       "    <tr>\n",
       "      <th>4</th>\n",
       "      <td>53</td>\n",
       "      <td>92</td>\n",
       "      <td>104.461264</td>\n",
       "      <td>29.889149</td>\n",
       "    </tr>\n",
       "    <tr>\n",
       "      <th>...</th>\n",
       "      <td>...</td>\n",
       "      <td>...</td>\n",
       "      <td>...</td>\n",
       "      <td>...</td>\n",
       "    </tr>\n",
       "    <tr>\n",
       "      <th>76</th>\n",
       "      <td>322</td>\n",
       "      <td>50</td>\n",
       "      <td>169.598513</td>\n",
       "      <td>16.132947</td>\n",
       "    </tr>\n",
       "    <tr>\n",
       "      <th>77</th>\n",
       "      <td>238</td>\n",
       "      <td>115</td>\n",
       "      <td>150.576579</td>\n",
       "      <td>37.923113</td>\n",
       "    </tr>\n",
       "    <tr>\n",
       "      <th>78</th>\n",
       "      <td>263</td>\n",
       "      <td>50</td>\n",
       "      <td>151.598513</td>\n",
       "      <td>15.769625</td>\n",
       "    </tr>\n",
       "    <tr>\n",
       "      <th>79</th>\n",
       "      <td>295</td>\n",
       "      <td>119</td>\n",
       "      <td>167.944460</td>\n",
       "      <td>39.423099</td>\n",
       "    </tr>\n",
       "    <tr>\n",
       "      <th>80</th>\n",
       "      <td>236</td>\n",
       "      <td>107</td>\n",
       "      <td>139.840817</td>\n",
       "      <td>34.948615</td>\n",
       "    </tr>\n",
       "  </tbody>\n",
       "</table>\n",
       "<p>81 rows × 4 columns</p>\n",
       "</div>"
      ],
      "text/plain": [
       "     HP  VOL          SP         WT\n",
       "0    49   89  104.185353  28.762059\n",
       "1    55   92  105.461264  30.466833\n",
       "2    55   92  105.461264  30.193597\n",
       "3    70   92  113.461264  30.632114\n",
       "4    53   92  104.461264  29.889149\n",
       "..  ...  ...         ...        ...\n",
       "76  322   50  169.598513  16.132947\n",
       "77  238  115  150.576579  37.923113\n",
       "78  263   50  151.598513  15.769625\n",
       "79  295  119  167.944460  39.423099\n",
       "80  236  107  139.840817  34.948615\n",
       "\n",
       "[81 rows x 4 columns]"
      ]
     },
     "execution_count": 39,
     "metadata": {},
     "output_type": "execute_result"
    }
   ],
   "source": [
    "X"
   ]
  },
  {
   "cell_type": "code",
   "execution_count": 40,
   "id": "8d11777d",
   "metadata": {},
   "outputs": [
    {
     "data": {
      "text/plain": [
       "HP     117.469136\n",
       "VOL     98.765432\n",
       "SP     121.540272\n",
       "WT      32.412577\n",
       "dtype: float64"
      ]
     },
     "execution_count": 40,
     "metadata": {},
     "output_type": "execute_result"
    }
   ],
   "source": [
    "X.mean()"
   ]
  },
  {
   "cell_type": "code",
   "execution_count": 41,
   "id": "ea968c74",
   "metadata": {},
   "outputs": [
    {
     "data": {
      "text/plain": [
       "HP     57.113502\n",
       "VOL    22.301497\n",
       "SP     14.181432\n",
       "WT      7.492813\n",
       "dtype: float64"
      ]
     },
     "execution_count": 41,
     "metadata": {},
     "output_type": "execute_result"
    }
   ],
   "source": [
    "X.std()"
   ]
  },
  {
   "cell_type": "code",
   "execution_count": 42,
   "id": "656ac454",
   "metadata": {},
   "outputs": [
    {
     "name": "stdout",
     "output_type": "stream",
     "text": [
      "[[-1.20629511 -0.44061061 -1.23140253 -0.49023816]\n",
      " [-1.1005866  -0.30525236 -1.14087145 -0.26129934]\n",
      " [-1.1005866  -0.30525236 -1.14087145 -0.29799301]\n",
      " [-0.83631531 -0.30525236 -0.57323872 -0.2391033 ]\n",
      " [-1.13582277 -0.30525236 -1.21182554 -0.33887816]\n",
      " [-0.83631531 -0.44061061 -0.59281571 -0.37881419]\n",
      " [-1.1005866  -0.30525236 -1.14087145 -0.28256505]\n",
      " [-0.97726    -2.20026792 -1.34399532 -2.22453536]\n",
      " [-0.97726    -2.20026792 -1.34399532 -2.15581433]\n",
      " [-0.66013445 -0.21501352 -0.4182792  -0.20042158]\n",
      " [-0.78346105 -0.44061061 -0.73472389 -0.40949027]\n",
      " [-0.44871742 -2.20026792 -0.27968395 -2.23718888]\n",
      " [-0.44871742  0.01058357  0.04007367  0.05385348]\n",
      " [-0.78346105 -0.44061061 -0.73472389 -0.40746314]\n",
      " [-0.90678765 -0.44061061 -0.94758617 -0.41164734]\n",
      " [-0.78346105 -0.44061061 -0.73472389 -0.37710085]\n",
      " [-0.69537062 -0.35037178 -0.50881029 -0.38633253]\n",
      " [-0.44871742 -2.20026792 -0.27968395 -2.17802125]\n",
      " [-0.69537062 -0.35037178 -0.50881029 -0.33347355]\n",
      " [-0.48395359  0.19106124 -0.21764002  0.14831256]\n",
      " [-0.44871742  0.01058357 -0.1727886  -0.01180799]\n",
      " [-0.76584297  0.37153891 -0.75917009  0.33514564]\n",
      " [-0.39586316  0.1008224  -0.08878318  0.03535268]\n",
      " [-0.64251637 -0.12477469 -0.54713605 -0.07727938]\n",
      " [-0.39586316 -0.44061061 -0.16709116 -0.48759676]\n",
      " [-0.44871742 -2.20026792 -0.49254623 -2.19829229]\n",
      " [-0.44871742  0.82273309 -0.05532661  0.75878723]\n",
      " [-0.44871742  0.01058357 -0.1727886   0.05673768]\n",
      " [-1.15344086  0.23618066 -1.55924209  0.27807071]\n",
      " [-0.25491848  0.37153891  0.02132491  0.42124726]\n",
      " [-0.58966211  0.68737484 -0.57158225  0.62174504]\n",
      " [-0.58966211  0.1008224  -0.65641591  0.11035971]\n",
      " [-0.27253656 -0.07965527 -0.11488584 -0.13866213]\n",
      " [-0.27253656  0.64225542 -0.01047519  0.69304639]\n",
      " [-0.64251637  0.1008224  -0.72737     0.03881962]\n",
      " [-0.48395359 -0.03453585 -0.46313063 -0.06732815]\n",
      " [-0.48395359 -0.48573003 -0.52838729 -0.49132041]\n",
      " [-0.27253656 -0.57596887 -0.32857635 -0.60870364]\n",
      " [-0.27253656 -0.57596887 -0.32857635 -0.50790524]\n",
      " [ 0.22076984 -0.30525236  0.49107265 -0.30848967]\n",
      " [-0.39586316  0.64225542 -0.36524564  0.66877093]\n",
      " [-0.39586316  0.32641949 -0.4109253   0.35112169]\n",
      " [-0.27253656 -0.30525236 -0.28942235 -0.253162  ]\n",
      " [-0.39586316 -0.48573003 -0.52838729 -0.54638368]\n",
      " [-0.43109934  0.14594182 -0.50798206  0.08944633]\n",
      " [-0.30777273  0.01058357 -0.31469678  0.02811271]\n",
      " [-0.30777273  0.55201658 -0.23638879  0.54872568]\n",
      " [-0.34300891  0.19106124 -0.35954821  0.20110061]\n",
      " [ 0.22076984 -0.57596887  0.45191866 -0.58309656]\n",
      " [-0.04350145  0.1008224  -0.23069136  0.14045608]\n",
      " [-0.04350145  0.1008224  -0.23069136  0.10761914]\n",
      " [-0.04350145  0.1008224  -0.23069136  0.13753382]\n",
      " [-0.04350145  1.13856902 -0.08060104  1.07240653]\n",
      " [ 1.10167413  0.64225542  1.55051482  0.69941256]\n",
      " [ 0.74931242  0.64225542  0.98288209  0.65022074]\n",
      " [ 0.22076984  1.13856902  0.3451235   1.09804367]\n",
      " [-0.37824508 -0.30525236 -0.78610099 -0.30417763]\n",
      " [-0.04350145  0.1008224  -0.23069136  0.04323438]\n",
      " [-0.30777273 -0.21501352 -0.63114147 -0.24136353]\n",
      " [-0.30777273  0.73249426 -0.4231484   0.70507688]\n",
      " [ 0.48504113  0.55201658  0.6150603   0.60103751]\n",
      " [ 0.04458898  0.77761368 -0.27471455  0.73160477]\n",
      " [ 0.3969507   1.45440495  0.31984907  1.47432127]\n",
      " [ 0.3969507   1.0934496   0.26764375  1.11600704]\n",
      " [ 0.57313156  1.00321077  0.46745469  1.0403533 ]\n",
      " [ 0.83740285 -2.20026792  0.35890287 -2.24265139]\n",
      " [ 0.83740285  0.68737484  0.77654549  0.74765875]\n",
      " [ 0.83740285  1.27392727  0.86137914  1.23030947]\n",
      " [ 0.83740285  1.0934496   0.83527648  1.08232792]\n",
      " [ 2.24684972  0.597136    2.60830053  0.63509149]\n",
      " [ 2.86348272 -2.20026792  3.05515833 -2.22785207]\n",
      " [ 0.78454859  1.63488262  0.84263038  1.55787152]\n",
      " [ 0.78454859  1.49952437  0.82305338  1.4692362 ]\n",
      " [ 0.3969507   2.76286807  0.22527702  2.76444017]\n",
      " [ 0.3969507   1.36416611  0.02298138  1.3706083 ]\n",
      " [ 1.01358371  1.36416611  0.80347638  1.39203071]\n",
      " [ 3.60344233 -2.20026792  3.40992879 -2.18623649]\n",
      " [ 2.12352311  0.73249426  2.06024479  0.74002517]\n",
      " [ 2.56397526 -2.20026792  2.13275515 -2.23502801]\n",
      " [ 3.12775401  0.91297193  3.292567    0.94146241]\n",
      " [ 2.08828694  0.37153891  1.29849856  0.34057153]]\n"
     ]
    }
   ],
   "source": [
    "from sklearn.preprocessing import StandardScaler\n",
    "std_scaler = StandardScaler()\n",
    "scaled_X = std_scaler.fit_transform(X)\n",
    "print(scaled_X)"
   ]
  },
  {
   "cell_type": "code",
   "execution_count": 43,
   "id": "aee950d7",
   "metadata": {},
   "outputs": [
    {
     "data": {
      "text/html": [
       "<div>\n",
       "<style scoped>\n",
       "    .dataframe tbody tr th:only-of-type {\n",
       "        vertical-align: middle;\n",
       "    }\n",
       "\n",
       "    .dataframe tbody tr th {\n",
       "        vertical-align: top;\n",
       "    }\n",
       "\n",
       "    .dataframe thead th {\n",
       "        text-align: right;\n",
       "    }\n",
       "</style>\n",
       "<table border=\"1\" class=\"dataframe\">\n",
       "  <thead>\n",
       "    <tr style=\"text-align: right;\">\n",
       "      <th></th>\n",
       "      <th>HP</th>\n",
       "      <th>VOL</th>\n",
       "      <th>SP</th>\n",
       "      <th>WT</th>\n",
       "    </tr>\n",
       "  </thead>\n",
       "  <tbody>\n",
       "    <tr>\n",
       "      <th>0</th>\n",
       "      <td>-1.206295</td>\n",
       "      <td>-0.440611</td>\n",
       "      <td>-1.231403</td>\n",
       "      <td>-0.490238</td>\n",
       "    </tr>\n",
       "    <tr>\n",
       "      <th>1</th>\n",
       "      <td>-1.100587</td>\n",
       "      <td>-0.305252</td>\n",
       "      <td>-1.140871</td>\n",
       "      <td>-0.261299</td>\n",
       "    </tr>\n",
       "    <tr>\n",
       "      <th>2</th>\n",
       "      <td>-1.100587</td>\n",
       "      <td>-0.305252</td>\n",
       "      <td>-1.140871</td>\n",
       "      <td>-0.297993</td>\n",
       "    </tr>\n",
       "    <tr>\n",
       "      <th>3</th>\n",
       "      <td>-0.836315</td>\n",
       "      <td>-0.305252</td>\n",
       "      <td>-0.573239</td>\n",
       "      <td>-0.239103</td>\n",
       "    </tr>\n",
       "    <tr>\n",
       "      <th>4</th>\n",
       "      <td>-1.135823</td>\n",
       "      <td>-0.305252</td>\n",
       "      <td>-1.211826</td>\n",
       "      <td>-0.338878</td>\n",
       "    </tr>\n",
       "    <tr>\n",
       "      <th>...</th>\n",
       "      <td>...</td>\n",
       "      <td>...</td>\n",
       "      <td>...</td>\n",
       "      <td>...</td>\n",
       "    </tr>\n",
       "    <tr>\n",
       "      <th>76</th>\n",
       "      <td>3.603442</td>\n",
       "      <td>-2.200268</td>\n",
       "      <td>3.409929</td>\n",
       "      <td>-2.186236</td>\n",
       "    </tr>\n",
       "    <tr>\n",
       "      <th>77</th>\n",
       "      <td>2.123523</td>\n",
       "      <td>0.732494</td>\n",
       "      <td>2.060245</td>\n",
       "      <td>0.740025</td>\n",
       "    </tr>\n",
       "    <tr>\n",
       "      <th>78</th>\n",
       "      <td>2.563975</td>\n",
       "      <td>-2.200268</td>\n",
       "      <td>2.132755</td>\n",
       "      <td>-2.235028</td>\n",
       "    </tr>\n",
       "    <tr>\n",
       "      <th>79</th>\n",
       "      <td>3.127754</td>\n",
       "      <td>0.912972</td>\n",
       "      <td>3.292567</td>\n",
       "      <td>0.941462</td>\n",
       "    </tr>\n",
       "    <tr>\n",
       "      <th>80</th>\n",
       "      <td>2.088287</td>\n",
       "      <td>0.371539</td>\n",
       "      <td>1.298499</td>\n",
       "      <td>0.340572</td>\n",
       "    </tr>\n",
       "  </tbody>\n",
       "</table>\n",
       "<p>81 rows × 4 columns</p>\n",
       "</div>"
      ],
      "text/plain": [
       "          HP       VOL        SP        WT\n",
       "0  -1.206295 -0.440611 -1.231403 -0.490238\n",
       "1  -1.100587 -0.305252 -1.140871 -0.261299\n",
       "2  -1.100587 -0.305252 -1.140871 -0.297993\n",
       "3  -0.836315 -0.305252 -0.573239 -0.239103\n",
       "4  -1.135823 -0.305252 -1.211826 -0.338878\n",
       "..       ...       ...       ...       ...\n",
       "76  3.603442 -2.200268  3.409929 -2.186236\n",
       "77  2.123523  0.732494  2.060245  0.740025\n",
       "78  2.563975 -2.200268  2.132755 -2.235028\n",
       "79  3.127754  0.912972  3.292567  0.941462\n",
       "80  2.088287  0.371539  1.298499  0.340572\n",
       "\n",
       "[81 rows x 4 columns]"
      ]
     },
     "execution_count": 43,
     "metadata": {},
     "output_type": "execute_result"
    }
   ],
   "source": [
    "scaled_X = pd.DataFrame(data = scaled_X,columns = ['HP','VOL','SP','WT'])\n",
    "scaled_X"
   ]
  },
  {
   "cell_type": "code",
   "execution_count": 44,
   "id": "dfad6265",
   "metadata": {},
   "outputs": [
    {
     "data": {
      "text/plain": [
       "HP    -1.041691e-16\n",
       "VOL    5.825244e-17\n",
       "SP     1.274701e-15\n",
       "WT     1.170531e-15\n",
       "dtype: float64"
      ]
     },
     "execution_count": 44,
     "metadata": {},
     "output_type": "execute_result"
    }
   ],
   "source": [
    "scaled_X.mean() #Mean = 0"
   ]
  },
  {
   "cell_type": "code",
   "execution_count": 45,
   "id": "20645eed",
   "metadata": {},
   "outputs": [
    {
     "data": {
      "text/plain": [
       "HP     1.006231\n",
       "VOL    1.006231\n",
       "SP     1.006231\n",
       "WT     1.006231\n",
       "dtype: float64"
      ]
     },
     "execution_count": 45,
     "metadata": {},
     "output_type": "execute_result"
    }
   ],
   "source": [
    "scaled_X.std() #STD = 1"
   ]
  },
  {
   "cell_type": "markdown",
   "id": "3ff8a281",
   "metadata": {},
   "source": [
    "##### Model Training"
   ]
  },
  {
   "cell_type": "code",
   "execution_count": 46,
   "id": "4f27ef1d",
   "metadata": {},
   "outputs": [
    {
     "data": {
      "text/plain": [
       "LinearRegression()"
      ]
     },
     "execution_count": 46,
     "metadata": {},
     "output_type": "execute_result"
    }
   ],
   "source": [
    "from sklearn.linear_model import LinearRegression\n",
    "linear_model = LinearRegression()\n",
    "linear_model.fit(scaled_X,y) #Training"
   ]
  },
  {
   "cell_type": "code",
   "execution_count": 47,
   "id": "8d48b00a",
   "metadata": {},
   "outputs": [
    {
     "data": {
      "text/plain": [
       "array([34.42207573])"
      ]
     },
     "execution_count": 47,
     "metadata": {},
     "output_type": "execute_result"
    }
   ],
   "source": [
    "linear_model.intercept_"
   ]
  },
  {
   "cell_type": "code",
   "execution_count": 48,
   "id": "76ea9d33",
   "metadata": {},
   "outputs": [
    {
     "data": {
      "text/plain": [
       "array([[-11.66095549,  -7.44803145,   5.57581553,   2.98284187]])"
      ]
     },
     "execution_count": 48,
     "metadata": {},
     "output_type": "execute_result"
    }
   ],
   "source": [
    "linear_model.coef_"
   ]
  },
  {
   "cell_type": "markdown",
   "id": "72833472",
   "metadata": {},
   "source": [
    "#### Model Testing"
   ]
  },
  {
   "cell_type": "code",
   "execution_count": 49,
   "id": "93ea5c4a",
   "metadata": {},
   "outputs": [
    {
     "data": {
      "text/plain": [
       "array([[43.44193477],\n",
       "       [42.38879289],\n",
       "       [42.27934147],\n",
       "       [42.53835981],\n",
       "       [42.17264802],\n",
       "       [43.02061916],\n",
       "       [42.32536062],\n",
       "       [48.07621852],\n",
       "       [48.28120247],\n",
       "       [40.79122814],\n",
       "       [41.52153227],\n",
       "       [47.80956747],\n",
       "       [39.95980269],\n",
       "       [41.52757889],\n",
       "       [41.76632332],\n",
       "       [41.6181448 ],\n",
       "       [41.15094046],\n",
       "       [47.98605515],\n",
       "       [41.30861046],\n",
       "       [37.87127922],\n",
       "       [38.57706414],\n",
       "       [37.35199705],\n",
       "       [37.89770285],\n",
       "       [39.5625144 ],\n",
       "       [39.93380662],\n",
       "       [46.73870908],\n",
       "       [35.48165898],\n",
       "       [38.78152504],\n",
       "       [38.24861192],\n",
       "       [36.00285298],\n",
       "       [34.84603989],\n",
       "       [37.21630246],\n",
       "       [37.13919796],\n",
       "       [34.82541399],\n",
       "       [37.22361389],\n",
       "       [37.53950097],\n",
       "       [39.27144845],\n",
       "       [38.24219888],\n",
       "       [38.54286458],\n",
       "       [35.9391722 ],\n",
       "       [34.2129755 ],\n",
       "       [35.36313259],\n",
       "       [37.50473376],\n",
       "       [38.07998482],\n",
       "       [35.79651664],\n",
       "       [36.2613377 ],\n",
       "       [34.21826465],\n",
       "       [35.59393404],\n",
       "       [36.91805291],\n",
       "       [33.31108154],\n",
       "       [33.21313413],\n",
       "       [33.3023649 ],\n",
       "       [29.19864884],\n",
       "       [27.52358579],\n",
       "       [28.3207133 ],\n",
       "       [28.56722621],\n",
       "       [35.81583602],\n",
       "       [33.02108459],\n",
       "       [35.37334971],\n",
       "       [32.29909503],\n",
       "       [29.87685849],\n",
       "       [28.76093817],\n",
       "       [25.14188416],\n",
       "       [26.47040896],\n",
       "       [25.97651933],\n",
       "       [36.35652478],\n",
       "       [26.0975912 ],\n",
       "       [23.6416178 ],\n",
       "       [24.39887199],\n",
       "       [20.21195358],\n",
       "       [27.80846468],\n",
       "       [22.44206834],\n",
       "       [23.07667801],\n",
       "       [18.717314  ],\n",
       "       [23.84934696],\n",
       "       [21.07461275],\n",
       "       [21.28209598],\n",
       "       [17.89904991],\n",
       "       [26.13645315],\n",
       "       [12.31661154],\n",
       "       [15.55948057]])"
      ]
     },
     "execution_count": 49,
     "metadata": {},
     "output_type": "execute_result"
    }
   ],
   "source": [
    "y_pred_cars = linear_model.predict(scaled_X)\n",
    "y_pred_cars"
   ]
  },
  {
   "cell_type": "code",
   "execution_count": 50,
   "id": "b45a7245",
   "metadata": {},
   "outputs": [
    {
     "data": {
      "text/html": [
       "<div>\n",
       "<style scoped>\n",
       "    .dataframe tbody tr th:only-of-type {\n",
       "        vertical-align: middle;\n",
       "    }\n",
       "\n",
       "    .dataframe tbody tr th {\n",
       "        vertical-align: top;\n",
       "    }\n",
       "\n",
       "    .dataframe thead th {\n",
       "        text-align: right;\n",
       "    }\n",
       "</style>\n",
       "<table border=\"1\" class=\"dataframe\">\n",
       "  <thead>\n",
       "    <tr style=\"text-align: right;\">\n",
       "      <th></th>\n",
       "      <th>MPG</th>\n",
       "    </tr>\n",
       "  </thead>\n",
       "  <tbody>\n",
       "    <tr>\n",
       "      <th>0</th>\n",
       "      <td>10.258747</td>\n",
       "    </tr>\n",
       "    <tr>\n",
       "      <th>1</th>\n",
       "      <td>7.624608</td>\n",
       "    </tr>\n",
       "    <tr>\n",
       "      <th>2</th>\n",
       "      <td>7.734060</td>\n",
       "    </tr>\n",
       "    <tr>\n",
       "      <th>3</th>\n",
       "      <td>3.157963</td>\n",
       "    </tr>\n",
       "    <tr>\n",
       "      <th>4</th>\n",
       "      <td>8.331584</td>\n",
       "    </tr>\n",
       "    <tr>\n",
       "      <th>...</th>\n",
       "      <td>...</td>\n",
       "    </tr>\n",
       "    <tr>\n",
       "      <th>76</th>\n",
       "      <td>15.617904</td>\n",
       "    </tr>\n",
       "    <tr>\n",
       "      <th>77</th>\n",
       "      <td>1.298838</td>\n",
       "    </tr>\n",
       "    <tr>\n",
       "      <th>78</th>\n",
       "      <td>7.863547</td>\n",
       "    </tr>\n",
       "    <tr>\n",
       "      <th>79</th>\n",
       "      <td>7.517122</td>\n",
       "    </tr>\n",
       "    <tr>\n",
       "      <th>80</th>\n",
       "      <td>-3.458218</td>\n",
       "    </tr>\n",
       "  </tbody>\n",
       "</table>\n",
       "<p>81 rows × 1 columns</p>\n",
       "</div>"
      ],
      "text/plain": [
       "          MPG\n",
       "0   10.258747\n",
       "1    7.624608\n",
       "2    7.734060\n",
       "3    3.157963\n",
       "4    8.331584\n",
       "..        ...\n",
       "76  15.617904\n",
       "77   1.298838\n",
       "78   7.863547\n",
       "79   7.517122\n",
       "80  -3.458218\n",
       "\n",
       "[81 rows x 1 columns]"
      ]
     },
     "execution_count": 50,
     "metadata": {},
     "output_type": "execute_result"
    }
   ],
   "source": [
    "error = y - y_pred_cars\n",
    "error"
   ]
  },
  {
   "cell_type": "code",
   "execution_count": 51,
   "id": "b5ef7a56",
   "metadata": {},
   "outputs": [
    {
     "data": {
      "image/png": "[encoded data removed]",
      "text/plain": [
       "<Figure size 432x288 with 1 Axes>"
      ]
     },
     "metadata": {
      "needs_background": "light"
     },
     "output_type": "display_data"
    }
   ],
   "source": [
    "plt.scatter(x = scaled_X['HP'],y = error)\n",
    "plt.title('Homoscedasticity Check - Scaled HP Vs Error')\n",
    "plt.xlabel('Scaled_HP')\n",
    "plt.ylabel('Error')\n",
    "plt.show()"
   ]
  },
  {
   "cell_type": "code",
   "execution_count": 52,
   "id": "c386ea20",
   "metadata": {},
   "outputs": [
    {
     "data": {
      "image/png": "[encoded data removed]",
      "text/plain": [
       "<Figure size 432x288 with 1 Axes>"
      ]
     },
     "metadata": {
      "needs_background": "light"
     },
     "output_type": "display_data"
    }
   ],
   "source": [
    "plt.scatter(x = scaled_X['VOL'],y = error)\n",
    "plt.title('Homoscedasticity Check - Scaled VOL Vs Error')\n",
    "plt.xlabel('Scaled_VOL')\n",
    "plt.ylabel('Error')\n",
    "plt.show()"
   ]
  },
  {
   "cell_type": "code",
   "execution_count": 53,
   "id": "9d6adc1b",
   "metadata": {},
   "outputs": [
    {
     "data": {
      "image/png": "[encoded data removed]",
      "text/plain": [
       "<Figure size 432x288 with 1 Axes>"
      ]
     },
     "metadata": {
      "needs_background": "light"
     },
     "output_type": "display_data"
    }
   ],
   "source": [
    "plt.scatter(x = scaled_X['WT'],y = error)\n",
    "plt.title('Homoscedasticity Check - Scaled WT  Vs Error')\n",
    "plt.xlabel('Scaled_WT')\n",
    "plt.ylabel('Error')\n",
    "plt.show()"
   ]
  },
  {
   "cell_type": "code",
   "execution_count": 54,
   "id": "2658159e",
   "metadata": {},
   "outputs": [
    {
     "data": {
      "image/png": "[encoded data removed]",
      "text/plain": [
       "<Figure size 432x288 with 1 Axes>"
      ]
     },
     "metadata": {
      "needs_background": "light"
     },
     "output_type": "display_data"
    }
   ],
   "source": [
    "plt.scatter(x = scaled_X['SP'],y = error)\n",
    "plt.title('Homoscedasticity Check - Scaled SP  Vs Error')\n",
    "plt.xlabel('Scaled_SP')\n",
    "plt.ylabel('Error')\n",
    "plt.show()"
   ]
  },
  {
   "cell_type": "markdown",
   "id": "f85eb5c0",
   "metadata": {},
   "source": [
    "### Observation - None of my input features follows Homoscedascity, So this test also fails."
   ]
  },
  {
   "cell_type": "markdown",
   "id": "7ca6269d",
   "metadata": {},
   "source": [
    "### 6. Test for Zero Residual Mean - Actual Vs Predicted"
   ]
  },
  {
   "cell_type": "code",
   "execution_count": 55,
   "id": "a52498d4",
   "metadata": {},
   "outputs": [
    {
     "data": {
      "image/png": "[encoded data removed]",
      "text/plain": [
       "<Figure size 432x288 with 1 Axes>"
      ]
     },
     "metadata": {
      "needs_background": "light"
     },
     "output_type": "display_data"
    }
   ],
   "source": [
    "plt.scatter(x = cars_data['MPG'],y = error)\n",
    "plt.title('Zero Residual Mean - Actual MPG Vs Predicted MPG')\n",
    "plt.xlabel('Actual MPG')\n",
    "plt.ylabel('Predicted MPG')\n",
    "plt.show()"
   ]
  },
  {
   "cell_type": "markdown",
   "id": "725616ab",
   "metadata": {},
   "source": [
    "#### Observation - Test for Zero Residual Mean also fails."
   ]
  },
  {
   "cell_type": "markdown",
   "id": "c4d7ebc3",
   "metadata": {},
   "source": [
    "### ====================================================================================="
   ]
  },
  {
   "cell_type": "markdown",
   "id": "b652535b",
   "metadata": {},
   "source": [
    "### Linear Regression with Statsmodels for Evaluation"
   ]
  },
  {
   "cell_type": "code",
   "execution_count": 57,
   "id": "55cbf7d9",
   "metadata": {},
   "outputs": [],
   "source": [
    "import statsmodels.formula.api as smf\n",
    "lin_model = smf.ols('MPG ~ HP + SP + VOL + WT',data = cars_data).fit()"
   ]
  },
  {
   "cell_type": "code",
   "execution_count": 58,
   "id": "05fd0558",
   "metadata": {},
   "outputs": [
    {
     "data": {
      "text/plain": [
       "Intercept    30.677336\n",
       "HP           -0.205444\n",
       "SP            0.395627\n",
       "VOL          -0.336051\n",
       "WT            0.400574\n",
       "dtype: float64"
      ]
     },
     "execution_count": 58,
     "metadata": {},
     "output_type": "execute_result"
    }
   ],
   "source": [
    "lin_model.params"
   ]
  },
  {
   "cell_type": "code",
   "execution_count": 59,
   "id": "5beecc7d",
   "metadata": {},
   "outputs": [
    {
     "data": {
      "text/plain": [
       "Intercept    0.042936\n",
       "HP           0.000001\n",
       "SP           0.014579\n",
       "VOL          0.556294\n",
       "WT           0.813649\n",
       "dtype: float64"
      ]
     },
     "execution_count": 59,
     "metadata": {},
     "output_type": "execute_result"
    }
   ],
   "source": [
    "lin_model.pvalues #P-val speaks about whether the input feature is significant or not at 5%."
   ]
  },
  {
   "cell_type": "markdown",
   "id": "7fa4897e",
   "metadata": {},
   "source": [
    "## ====================================================================="
   ]
  },
  {
   "cell_type": "markdown",
   "id": "1ee9710f",
   "metadata": {},
   "source": [
    "### Hypothesis Formula\n",
    "\n",
    "##### H0: It is not a signifacant parameter.\n",
    "##### Ha: It is a significant parameter."
   ]
  },
  {
   "cell_type": "markdown",
   "id": "64e3e1f7",
   "metadata": {},
   "source": [
    "## ====================================================================="
   ]
  },
  {
   "cell_type": "code",
   "execution_count": 63,
   "id": "0ea8618b",
   "metadata": {},
   "outputs": [
    {
     "name": "stdout",
     "output_type": "stream",
     "text": [
      "R2 score :  0.7705372737359844\n",
      "Adjusted R2 score:  0.7584602881431415\n"
     ]
    }
   ],
   "source": [
    "print('R2 score : ',lin_model.rsquared)\n",
    "print('Adjusted R2 score: ',lin_model.rsquared_adj) \n",
    "#It speaks about the overall contribution of the input features for the prediction."
   ]
  },
  {
   "cell_type": "markdown",
   "id": "967a6b96",
   "metadata": {},
   "source": [
    "### Understanding R2 and Adjusted R2"
   ]
  },
  {
   "cell_type": "code",
   "execution_count": 74,
   "id": "d0ba6061",
   "metadata": {},
   "outputs": [
    {
     "name": "stdout",
     "output_type": "stream",
     "text": [
      "R2 score          :  0.5257\n",
      "Adjusted R2 score :  0.5197\n",
      "AIC value         :  530.7453\n",
      "BIC value         :  535.5342\n"
     ]
    }
   ],
   "source": [
    "model_1 = smf.ols('MPG ~ HP',data = cars_data).fit()\n",
    "print('R2 score          : ',round(model_1.rsquared,4))\n",
    "print('Adjusted R2 score : ',round(model_1.rsquared_adj,4))\n",
    "print('AIC value         : ',round(model_1.aic,4)) \n",
    "print('BIC value         : ',round(model_1.bic,4))\n",
    "#when performing model selection, the one with the lowest AIC or BIC is preferred."
   ]
  },
  {
   "cell_type": "code",
   "execution_count": 73,
   "id": "c3c748bd",
   "metadata": {},
   "outputs": [
    {
     "name": "stdout",
     "output_type": "stream",
     "text": [
      "R2 score          :  0.5326\n",
      "Adjusted R2 score :  0.5207\n",
      "AIC value         :  531.5481\n",
      "BIC value         :  538.7315\n"
     ]
    }
   ],
   "source": [
    "model_2 = smf.ols('MPG ~ HP + SP',data = cars_data).fit()\n",
    "print('R2 score          : ',round(model_2.rsquared,4))\n",
    "print('Adjusted R2 score : ',round(model_2.rsquared_adj,4))\n",
    "print('AIC value         : ',round(model_2.aic,4))\n",
    "print('BIC value         : ',round(model_2.bic,4))"
   ]
  },
  {
   "cell_type": "code",
   "execution_count": 75,
   "id": "22dd9901",
   "metadata": {},
   "outputs": [
    {
     "name": "stdout",
     "output_type": "stream",
     "text": [
      "R2 score          :  0.7704\n",
      "Adjusted R2 score :  0.7614\n",
      "AIC value         :  475.9875\n",
      "BIC value         :  485.5653\n"
     ]
    }
   ],
   "source": [
    "model_3 = smf.ols('MPG ~ HP + SP + VOL',data = cars_data).fit()\n",
    "print('R2 score          : ',round(model_3.rsquared,4))\n",
    "print('Adjusted R2 score : ',round(model_3.rsquared_adj,4))\n",
    "print('AIC value         : ',round(model_3.aic,4))\n",
    "print('BIC value         : ',round(model_3.bic,4))"
   ]
  },
  {
   "cell_type": "code",
   "execution_count": 76,
   "id": "60d35865",
   "metadata": {},
   "outputs": [
    {
     "name": "stdout",
     "output_type": "stream",
     "text": [
      "R2 score          :  0.7705\n",
      "Adjusted R2 score :  0.7585\n",
      "AIC value         :  477.9279\n",
      "BIC value         :  489.9002\n"
     ]
    }
   ],
   "source": [
    "model_4 = smf.ols('MPG ~ HP + SP + VOL + WT',data = cars_data).fit()\n",
    "print('R2 score          : ',round(model_4.rsquared,4))\n",
    "print('Adjusted R2 score : ',round(model_4.rsquared_adj,4))\n",
    "print('AIC value         : ',round(model_4.aic,4))\n",
    "print('BIC value         : ',round(model_4.bic,4))"
   ]
  },
  {
   "cell_type": "code",
   "execution_count": 77,
   "id": "39c0f190",
   "metadata": {},
   "outputs": [
    {
     "data": {
      "text/html": [
       "<table class=\"simpletable\">\n",
       "<caption>OLS Regression Results</caption>\n",
       "<tr>\n",
       "  <th>Dep. Variable:</th>           <td>MPG</td>       <th>  R-squared:         </th> <td>   0.526</td>\n",
       "</tr>\n",
       "<tr>\n",
       "  <th>Model:</th>                   <td>OLS</td>       <th>  Adj. R-squared:    </th> <td>   0.520</td>\n",
       "</tr>\n",
       "<tr>\n",
       "  <th>Method:</th>             <td>Least Squares</td>  <th>  F-statistic:       </th> <td>   87.55</td>\n",
       "</tr>\n",
       "<tr>\n",
       "  <th>Date:</th>             <td>Sun, 07 Nov 2021</td> <th>  Prob (F-statistic):</th> <td>1.96e-14</td>\n",
       "</tr>\n",
       "<tr>\n",
       "  <th>Time:</th>                 <td>12:42:22</td>     <th>  Log-Likelihood:    </th> <td> -263.37</td>\n",
       "</tr>\n",
       "<tr>\n",
       "  <th>No. Observations:</th>      <td>    81</td>      <th>  AIC:               </th> <td>   530.7</td>\n",
       "</tr>\n",
       "<tr>\n",
       "  <th>Df Residuals:</th>          <td>    79</td>      <th>  BIC:               </th> <td>   535.5</td>\n",
       "</tr>\n",
       "<tr>\n",
       "  <th>Df Model:</th>              <td>     1</td>      <th>                     </th>     <td> </td>   \n",
       "</tr>\n",
       "<tr>\n",
       "  <th>Covariance Type:</th>      <td>nonrobust</td>    <th>                     </th>     <td> </td>   \n",
       "</tr>\n",
       "</table>\n",
       "<table class=\"simpletable\">\n",
       "<tr>\n",
       "      <td></td>         <th>coef</th>     <th>std err</th>      <th>t</th>      <th>P>|t|</th>  <th>[0.025</th>    <th>0.975]</th>  \n",
       "</tr>\n",
       "<tr>\n",
       "  <th>Intercept</th> <td>   48.0392</td> <td>    1.616</td> <td>   29.722</td> <td> 0.000</td> <td>   44.822</td> <td>   51.256</td>\n",
       "</tr>\n",
       "<tr>\n",
       "  <th>HP</th>        <td>   -0.1159</td> <td>    0.012</td> <td>   -9.357</td> <td> 0.000</td> <td>   -0.141</td> <td>   -0.091</td>\n",
       "</tr>\n",
       "</table>\n",
       "<table class=\"simpletable\">\n",
       "<tr>\n",
       "  <th>Omnibus:</th>       <td>20.653</td> <th>  Durbin-Watson:     </th> <td>   1.155</td>\n",
       "</tr>\n",
       "<tr>\n",
       "  <th>Prob(Omnibus):</th> <td> 0.000</td> <th>  Jarque-Bera (JB):  </th> <td>  37.053</td>\n",
       "</tr>\n",
       "<tr>\n",
       "  <th>Skew:</th>          <td> 0.949</td> <th>  Prob(JB):          </th> <td>9.00e-09</td>\n",
       "</tr>\n",
       "<tr>\n",
       "  <th>Kurtosis:</th>      <td> 5.716</td> <th>  Cond. No.          </th> <td>    300.</td>\n",
       "</tr>\n",
       "</table><br/><br/>Notes:<br/>[1] Standard Errors assume that the covariance matrix of the errors is correctly specified."
      ],
      "text/plain": [
       "<class 'statsmodels.iolib.summary.Summary'>\n",
       "\"\"\"\n",
       "                            OLS Regression Results                            \n",
       "==============================================================================\n",
       "Dep. Variable:                    MPG   R-squared:                       0.526\n",
       "Model:                            OLS   Adj. R-squared:                  0.520\n",
       "Method:                 Least Squares   F-statistic:                     87.55\n",
       "Date:                Sun, 07 Nov 2021   Prob (F-statistic):           1.96e-14\n",
       "Time:                        12:42:22   Log-Likelihood:                -263.37\n",
       "No. Observations:                  81   AIC:                             530.7\n",
       "Df Residuals:                      79   BIC:                             535.5\n",
       "Df Model:                           1                                         \n",
       "Covariance Type:            nonrobust                                         \n",
       "==============================================================================\n",
       "                 coef    std err          t      P>|t|      [0.025      0.975]\n",
       "------------------------------------------------------------------------------\n",
       "Intercept     48.0392      1.616     29.722      0.000      44.822      51.256\n",
       "HP            -0.1159      0.012     -9.357      0.000      -0.141      -0.091\n",
       "==============================================================================\n",
       "Omnibus:                       20.653   Durbin-Watson:                   1.155\n",
       "Prob(Omnibus):                  0.000   Jarque-Bera (JB):               37.053\n",
       "Skew:                           0.949   Prob(JB):                     9.00e-09\n",
       "Kurtosis:                       5.716   Cond. No.                         300.\n",
       "==============================================================================\n",
       "\n",
       "Notes:\n",
       "[1] Standard Errors assume that the covariance matrix of the errors is correctly specified.\n",
       "\"\"\""
      ]
     },
     "execution_count": 77,
     "metadata": {},
     "output_type": "execute_result"
    }
   ],
   "source": [
    "model_1.summary()"
   ]
  },
  {
   "cell_type": "code",
   "execution_count": 78,
   "id": "b6d3c2f1",
   "metadata": {},
   "outputs": [
    {
     "data": {
      "text/html": [
       "<table class=\"simpletable\">\n",
       "<caption>OLS Regression Results</caption>\n",
       "<tr>\n",
       "  <th>Dep. Variable:</th>           <td>MPG</td>       <th>  R-squared:         </th> <td>   0.533</td>\n",
       "</tr>\n",
       "<tr>\n",
       "  <th>Model:</th>                   <td>OLS</td>       <th>  Adj. R-squared:    </th> <td>   0.521</td>\n",
       "</tr>\n",
       "<tr>\n",
       "  <th>Method:</th>             <td>Least Squares</td>  <th>  F-statistic:       </th> <td>   44.45</td>\n",
       "</tr>\n",
       "<tr>\n",
       "  <th>Date:</th>             <td>Sun, 07 Nov 2021</td> <th>  Prob (F-statistic):</th> <td>1.31e-13</td>\n",
       "</tr>\n",
       "<tr>\n",
       "  <th>Time:</th>                 <td>12:44:09</td>     <th>  Log-Likelihood:    </th> <td> -262.77</td>\n",
       "</tr>\n",
       "<tr>\n",
       "  <th>No. Observations:</th>      <td>    81</td>      <th>  AIC:               </th> <td>   531.5</td>\n",
       "</tr>\n",
       "<tr>\n",
       "  <th>Df Residuals:</th>          <td>    78</td>      <th>  BIC:               </th> <td>   538.7</td>\n",
       "</tr>\n",
       "<tr>\n",
       "  <th>Df Model:</th>              <td>     2</td>      <th>                     </th>     <td> </td>   \n",
       "</tr>\n",
       "<tr>\n",
       "  <th>Covariance Type:</th>      <td>nonrobust</td>    <th>                     </th>     <td> </td>   \n",
       "</tr>\n",
       "</table>\n",
       "<table class=\"simpletable\">\n",
       "<tr>\n",
       "      <td></td>         <th>coef</th>     <th>std err</th>      <th>t</th>      <th>P>|t|</th>  <th>[0.025</th>    <th>0.975]</th>  \n",
       "</tr>\n",
       "<tr>\n",
       "  <th>Intercept</th> <td>   26.0209</td> <td>   20.495</td> <td>    1.270</td> <td> 0.208</td> <td>  -14.782</td> <td>   66.824</td>\n",
       "</tr>\n",
       "<tr>\n",
       "  <th>HP</th>        <td>   -0.1731</td> <td>    0.054</td> <td>   -3.178</td> <td> 0.002</td> <td>   -0.282</td> <td>   -0.065</td>\n",
       "</tr>\n",
       "<tr>\n",
       "  <th>SP</th>        <td>    0.2364</td> <td>    0.219</td> <td>    1.078</td> <td> 0.285</td> <td>   -0.200</td> <td>    0.673</td>\n",
       "</tr>\n",
       "</table>\n",
       "<table class=\"simpletable\">\n",
       "<tr>\n",
       "  <th>Omnibus:</th>       <td>27.260</td> <th>  Durbin-Watson:     </th> <td>   1.215</td>\n",
       "</tr>\n",
       "<tr>\n",
       "  <th>Prob(Omnibus):</th> <td> 0.000</td> <th>  Jarque-Bera (JB):  </th> <td>  54.523</td>\n",
       "</tr>\n",
       "<tr>\n",
       "  <th>Skew:</th>          <td> 1.214</td> <th>  Prob(JB):          </th> <td>1.45e-12</td>\n",
       "</tr>\n",
       "<tr>\n",
       "  <th>Kurtosis:</th>      <td> 6.204</td> <th>  Cond. No.          </th> <td>5.14e+03</td>\n",
       "</tr>\n",
       "</table><br/><br/>Notes:<br/>[1] Standard Errors assume that the covariance matrix of the errors is correctly specified.<br/>[2] The condition number is large, 5.14e+03. This might indicate that there are<br/>strong multicollinearity or other numerical problems."
      ],
      "text/plain": [
       "<class 'statsmodels.iolib.summary.Summary'>\n",
       "\"\"\"\n",
       "                            OLS Regression Results                            \n",
       "==============================================================================\n",
       "Dep. Variable:                    MPG   R-squared:                       0.533\n",
       "Model:                            OLS   Adj. R-squared:                  0.521\n",
       "Method:                 Least Squares   F-statistic:                     44.45\n",
       "Date:                Sun, 07 Nov 2021   Prob (F-statistic):           1.31e-13\n",
       "Time:                        12:44:09   Log-Likelihood:                -262.77\n",
       "No. Observations:                  81   AIC:                             531.5\n",
       "Df Residuals:                      78   BIC:                             538.7\n",
       "Df Model:                           2                                         \n",
       "Covariance Type:            nonrobust                                         \n",
       "==============================================================================\n",
       "                 coef    std err          t      P>|t|      [0.025      0.975]\n",
       "------------------------------------------------------------------------------\n",
       "Intercept     26.0209     20.495      1.270      0.208     -14.782      66.824\n",
       "HP            -0.1731      0.054     -3.178      0.002      -0.282      -0.065\n",
       "SP             0.2364      0.219      1.078      0.285      -0.200       0.673\n",
       "==============================================================================\n",
       "Omnibus:                       27.260   Durbin-Watson:                   1.215\n",
       "Prob(Omnibus):                  0.000   Jarque-Bera (JB):               54.523\n",
       "Skew:                           1.214   Prob(JB):                     1.45e-12\n",
       "Kurtosis:                       6.204   Cond. No.                     5.14e+03\n",
       "==============================================================================\n",
       "\n",
       "Notes:\n",
       "[1] Standard Errors assume that the covariance matrix of the errors is correctly specified.\n",
       "[2] The condition number is large, 5.14e+03. This might indicate that there are\n",
       "strong multicollinearity or other numerical problems.\n",
       "\"\"\""
      ]
     },
     "execution_count": 78,
     "metadata": {},
     "output_type": "execute_result"
    }
   ],
   "source": [
    "model_2.summary()"
   ]
  },
  {
   "cell_type": "code",
   "execution_count": 79,
   "id": "a7d8c105",
   "metadata": {},
   "outputs": [
    {
     "data": {
      "text/html": [
       "<table class=\"simpletable\">\n",
       "<caption>OLS Regression Results</caption>\n",
       "<tr>\n",
       "  <th>Dep. Variable:</th>           <td>MPG</td>       <th>  R-squared:         </th> <td>   0.770</td>\n",
       "</tr>\n",
       "<tr>\n",
       "  <th>Model:</th>                   <td>OLS</td>       <th>  Adj. R-squared:    </th> <td>   0.761</td>\n",
       "</tr>\n",
       "<tr>\n",
       "  <th>Method:</th>             <td>Least Squares</td>  <th>  F-statistic:       </th> <td>   86.11</td>\n",
       "</tr>\n",
       "<tr>\n",
       "  <th>Date:</th>             <td>Sun, 07 Nov 2021</td> <th>  Prob (F-statistic):</th> <td>1.56e-24</td>\n",
       "</tr>\n",
       "<tr>\n",
       "  <th>Time:</th>                 <td>12:44:30</td>     <th>  Log-Likelihood:    </th> <td> -233.99</td>\n",
       "</tr>\n",
       "<tr>\n",
       "  <th>No. Observations:</th>      <td>    81</td>      <th>  AIC:               </th> <td>   476.0</td>\n",
       "</tr>\n",
       "<tr>\n",
       "  <th>Df Residuals:</th>          <td>    77</td>      <th>  BIC:               </th> <td>   485.6</td>\n",
       "</tr>\n",
       "<tr>\n",
       "  <th>Df Model:</th>              <td>     3</td>      <th>                     </th>     <td> </td>   \n",
       "</tr>\n",
       "<tr>\n",
       "  <th>Covariance Type:</th>      <td>nonrobust</td>    <th>                     </th>     <td> </td>   \n",
       "</tr>\n",
       "</table>\n",
       "<table class=\"simpletable\">\n",
       "<tr>\n",
       "      <td></td>         <th>coef</th>     <th>std err</th>      <th>t</th>      <th>P>|t|</th>  <th>[0.025</th>    <th>0.975]</th>  \n",
       "</tr>\n",
       "<tr>\n",
       "  <th>Intercept</th> <td>   29.9234</td> <td>   14.466</td> <td>    2.069</td> <td> 0.042</td> <td>    1.118</td> <td>   58.729</td>\n",
       "</tr>\n",
       "<tr>\n",
       "  <th>HP</th>        <td>   -0.2067</td> <td>    0.039</td> <td>   -5.353</td> <td> 0.000</td> <td>   -0.284</td> <td>   -0.130</td>\n",
       "</tr>\n",
       "<tr>\n",
       "  <th>SP</th>        <td>    0.4007</td> <td>    0.156</td> <td>    2.571</td> <td> 0.012</td> <td>    0.090</td> <td>    0.711</td>\n",
       "</tr>\n",
       "<tr>\n",
       "  <th>VOL</th>       <td>   -0.2017</td> <td>    0.023</td> <td>   -8.928</td> <td> 0.000</td> <td>   -0.247</td> <td>   -0.157</td>\n",
       "</tr>\n",
       "</table>\n",
       "<table class=\"simpletable\">\n",
       "<tr>\n",
       "  <th>Omnibus:</th>       <td>10.810</td> <th>  Durbin-Watson:     </th> <td>   1.389</td>\n",
       "</tr>\n",
       "<tr>\n",
       "  <th>Prob(Omnibus):</th> <td> 0.004</td> <th>  Jarque-Bera (JB):  </th> <td>  11.822</td>\n",
       "</tr>\n",
       "<tr>\n",
       "  <th>Skew:</th>          <td> 0.704</td> <th>  Prob(JB):          </th> <td> 0.00271</td>\n",
       "</tr>\n",
       "<tr>\n",
       "  <th>Kurtosis:</th>      <td> 4.233</td> <th>  Cond. No.          </th> <td>5.87e+03</td>\n",
       "</tr>\n",
       "</table><br/><br/>Notes:<br/>[1] Standard Errors assume that the covariance matrix of the errors is correctly specified.<br/>[2] The condition number is large, 5.87e+03. This might indicate that there are<br/>strong multicollinearity or other numerical problems."
      ],
      "text/plain": [
       "<class 'statsmodels.iolib.summary.Summary'>\n",
       "\"\"\"\n",
       "                            OLS Regression Results                            \n",
       "==============================================================================\n",
       "Dep. Variable:                    MPG   R-squared:                       0.770\n",
       "Model:                            OLS   Adj. R-squared:                  0.761\n",
       "Method:                 Least Squares   F-statistic:                     86.11\n",
       "Date:                Sun, 07 Nov 2021   Prob (F-statistic):           1.56e-24\n",
       "Time:                        12:44:30   Log-Likelihood:                -233.99\n",
       "No. Observations:                  81   AIC:                             476.0\n",
       "Df Residuals:                      77   BIC:                             485.6\n",
       "Df Model:                           3                                         \n",
       "Covariance Type:            nonrobust                                         \n",
       "==============================================================================\n",
       "                 coef    std err          t      P>|t|      [0.025      0.975]\n",
       "------------------------------------------------------------------------------\n",
       "Intercept     29.9234     14.466      2.069      0.042       1.118      58.729\n",
       "HP            -0.2067      0.039     -5.353      0.000      -0.284      -0.130\n",
       "SP             0.4007      0.156      2.571      0.012       0.090       0.711\n",
       "VOL           -0.2017      0.023     -8.928      0.000      -0.247      -0.157\n",
       "==============================================================================\n",
       "Omnibus:                       10.810   Durbin-Watson:                   1.389\n",
       "Prob(Omnibus):                  0.004   Jarque-Bera (JB):               11.822\n",
       "Skew:                           0.704   Prob(JB):                      0.00271\n",
       "Kurtosis:                       4.233   Cond. No.                     5.87e+03\n",
       "==============================================================================\n",
       "\n",
       "Notes:\n",
       "[1] Standard Errors assume that the covariance matrix of the errors is correctly specified.\n",
       "[2] The condition number is large, 5.87e+03. This might indicate that there are\n",
       "strong multicollinearity or other numerical problems.\n",
       "\"\"\""
      ]
     },
     "execution_count": 79,
     "metadata": {},
     "output_type": "execute_result"
    }
   ],
   "source": [
    "model_3.summary()"
   ]
  },
  {
   "cell_type": "code",
   "execution_count": 80,
   "id": "14e920b0",
   "metadata": {},
   "outputs": [
    {
     "data": {
      "text/html": [
       "<table class=\"simpletable\">\n",
       "<caption>OLS Regression Results</caption>\n",
       "<tr>\n",
       "  <th>Dep. Variable:</th>           <td>MPG</td>       <th>  R-squared:         </th> <td>   0.771</td>\n",
       "</tr>\n",
       "<tr>\n",
       "  <th>Model:</th>                   <td>OLS</td>       <th>  Adj. R-squared:    </th> <td>   0.758</td>\n",
       "</tr>\n",
       "<tr>\n",
       "  <th>Method:</th>             <td>Least Squares</td>  <th>  F-statistic:       </th> <td>   63.80</td>\n",
       "</tr>\n",
       "<tr>\n",
       "  <th>Date:</th>             <td>Sun, 07 Nov 2021</td> <th>  Prob (F-statistic):</th> <td>1.54e-23</td>\n",
       "</tr>\n",
       "<tr>\n",
       "  <th>Time:</th>                 <td>12:44:45</td>     <th>  Log-Likelihood:    </th> <td> -233.96</td>\n",
       "</tr>\n",
       "<tr>\n",
       "  <th>No. Observations:</th>      <td>    81</td>      <th>  AIC:               </th> <td>   477.9</td>\n",
       "</tr>\n",
       "<tr>\n",
       "  <th>Df Residuals:</th>          <td>    76</td>      <th>  BIC:               </th> <td>   489.9</td>\n",
       "</tr>\n",
       "<tr>\n",
       "  <th>Df Model:</th>              <td>     4</td>      <th>                     </th>     <td> </td>   \n",
       "</tr>\n",
       "<tr>\n",
       "  <th>Covariance Type:</th>      <td>nonrobust</td>    <th>                     </th>     <td> </td>   \n",
       "</tr>\n",
       "</table>\n",
       "<table class=\"simpletable\">\n",
       "<tr>\n",
       "      <td></td>         <th>coef</th>     <th>std err</th>      <th>t</th>      <th>P>|t|</th>  <th>[0.025</th>    <th>0.975]</th>  \n",
       "</tr>\n",
       "<tr>\n",
       "  <th>Intercept</th> <td>   30.6773</td> <td>   14.900</td> <td>    2.059</td> <td> 0.043</td> <td>    1.001</td> <td>   60.354</td>\n",
       "</tr>\n",
       "<tr>\n",
       "  <th>HP</th>        <td>   -0.2054</td> <td>    0.039</td> <td>   -5.239</td> <td> 0.000</td> <td>   -0.284</td> <td>   -0.127</td>\n",
       "</tr>\n",
       "<tr>\n",
       "  <th>SP</th>        <td>    0.3956</td> <td>    0.158</td> <td>    2.500</td> <td> 0.015</td> <td>    0.080</td> <td>    0.711</td>\n",
       "</tr>\n",
       "<tr>\n",
       "  <th>VOL</th>       <td>   -0.3361</td> <td>    0.569</td> <td>   -0.591</td> <td> 0.556</td> <td>   -1.469</td> <td>    0.796</td>\n",
       "</tr>\n",
       "<tr>\n",
       "  <th>WT</th>        <td>    0.4006</td> <td>    1.693</td> <td>    0.237</td> <td> 0.814</td> <td>   -2.972</td> <td>    3.773</td>\n",
       "</tr>\n",
       "</table>\n",
       "<table class=\"simpletable\">\n",
       "<tr>\n",
       "  <th>Omnibus:</th>       <td>10.780</td> <th>  Durbin-Watson:     </th> <td>   1.403</td>\n",
       "</tr>\n",
       "<tr>\n",
       "  <th>Prob(Omnibus):</th> <td> 0.005</td> <th>  Jarque-Bera (JB):  </th> <td>  11.722</td>\n",
       "</tr>\n",
       "<tr>\n",
       "  <th>Skew:</th>          <td> 0.707</td> <th>  Prob(JB):          </th> <td> 0.00285</td>\n",
       "</tr>\n",
       "<tr>\n",
       "  <th>Kurtosis:</th>      <td> 4.215</td> <th>  Cond. No.          </th> <td>6.09e+03</td>\n",
       "</tr>\n",
       "</table><br/><br/>Notes:<br/>[1] Standard Errors assume that the covariance matrix of the errors is correctly specified.<br/>[2] The condition number is large, 6.09e+03. This might indicate that there are<br/>strong multicollinearity or other numerical problems."
      ],
      "text/plain": [
       "<class 'statsmodels.iolib.summary.Summary'>\n",
       "\"\"\"\n",
       "                            OLS Regression Results                            \n",
       "==============================================================================\n",
       "Dep. Variable:                    MPG   R-squared:                       0.771\n",
       "Model:                            OLS   Adj. R-squared:                  0.758\n",
       "Method:                 Least Squares   F-statistic:                     63.80\n",
       "Date:                Sun, 07 Nov 2021   Prob (F-statistic):           1.54e-23\n",
       "Time:                        12:44:45   Log-Likelihood:                -233.96\n",
       "No. Observations:                  81   AIC:                             477.9\n",
       "Df Residuals:                      76   BIC:                             489.9\n",
       "Df Model:                           4                                         \n",
       "Covariance Type:            nonrobust                                         \n",
       "==============================================================================\n",
       "                 coef    std err          t      P>|t|      [0.025      0.975]\n",
       "------------------------------------------------------------------------------\n",
       "Intercept     30.6773     14.900      2.059      0.043       1.001      60.354\n",
       "HP            -0.2054      0.039     -5.239      0.000      -0.284      -0.127\n",
       "SP             0.3956      0.158      2.500      0.015       0.080       0.711\n",
       "VOL           -0.3361      0.569     -0.591      0.556      -1.469       0.796\n",
       "WT             0.4006      1.693      0.237      0.814      -2.972       3.773\n",
       "==============================================================================\n",
       "Omnibus:                       10.780   Durbin-Watson:                   1.403\n",
       "Prob(Omnibus):                  0.005   Jarque-Bera (JB):               11.722\n",
       "Skew:                           0.707   Prob(JB):                      0.00285\n",
       "Kurtosis:                       4.215   Cond. No.                     6.09e+03\n",
       "==============================================================================\n",
       "\n",
       "Notes:\n",
       "[1] Standard Errors assume that the covariance matrix of the errors is correctly specified.\n",
       "[2] The condition number is large, 6.09e+03. This might indicate that there are\n",
       "strong multicollinearity or other numerical problems.\n",
       "\"\"\""
      ]
     },
     "execution_count": 80,
     "metadata": {},
     "output_type": "execute_result"
    }
   ],
   "source": [
    "model_4.summary()"
   ]
  },
  {
   "cell_type": "code",
   "execution_count": 81,
   "id": "8a33f05d",
   "metadata": {},
   "outputs": [],
   "source": [
    "model_1 = smf.ols('MPG ~ VOL',data = cars_data).fit()"
   ]
  },
  {
   "cell_type": "code",
   "execution_count": 82,
   "id": "60c5d94b",
   "metadata": {},
   "outputs": [
    {
     "data": {
      "text/plain": [
       "Intercept    2.753815e-23\n",
       "VOL          3.822819e-07\n",
       "dtype: float64"
      ]
     },
     "execution_count": 82,
     "metadata": {},
     "output_type": "execute_result"
    }
   ],
   "source": [
    "model_1.pvalues"
   ]
  },
  {
   "cell_type": "code",
   "execution_count": 83,
   "id": "962dd483",
   "metadata": {},
   "outputs": [
    {
     "data": {
      "text/plain": [
       "Intercept    1.550788e-23\n",
       "WT           4.383467e-07\n",
       "dtype: float64"
      ]
     },
     "execution_count": 83,
     "metadata": {},
     "output_type": "execute_result"
    }
   ],
   "source": [
    "model_5 = smf.ols('MPG ~ WT',data = cars_data).fit()\n",
    "model_5.pvalues"
   ]
  },
  {
   "cell_type": "code",
   "execution_count": 84,
   "id": "29daf75f",
   "metadata": {},
   "outputs": [
    {
     "data": {
      "text/plain": [
       "Intercept    2.141975e-20\n",
       "WT           6.255966e-01\n",
       "VOL          4.800657e-01\n",
       "dtype: float64"
      ]
     },
     "execution_count": 84,
     "metadata": {},
     "output_type": "execute_result"
    }
   ],
   "source": [
    "model_5 = smf.ols('MPG ~ WT + VOL',data = cars_data).fit()\n",
    "model_5.pvalues"
   ]
  },
  {
   "cell_type": "markdown",
   "id": "f637f48e",
   "metadata": {},
   "source": [
    "### ====================================================================================="
   ]
  },
  {
   "cell_type": "markdown",
   "id": "f29dc7df",
   "metadata": {},
   "source": [
    "### With sklearn library"
   ]
  },
  {
   "cell_type": "code",
   "execution_count": 85,
   "id": "a78065a0",
   "metadata": {},
   "outputs": [
    {
     "data": {
      "text/html": [
       "<div>\n",
       "<style scoped>\n",
       "    .dataframe tbody tr th:only-of-type {\n",
       "        vertical-align: middle;\n",
       "    }\n",
       "\n",
       "    .dataframe tbody tr th {\n",
       "        vertical-align: top;\n",
       "    }\n",
       "\n",
       "    .dataframe thead th {\n",
       "        text-align: right;\n",
       "    }\n",
       "</style>\n",
       "<table border=\"1\" class=\"dataframe\">\n",
       "  <thead>\n",
       "    <tr style=\"text-align: right;\">\n",
       "      <th></th>\n",
       "      <th>HP</th>\n",
       "      <th>VOL</th>\n",
       "      <th>SP</th>\n",
       "      <th>WT</th>\n",
       "    </tr>\n",
       "  </thead>\n",
       "  <tbody>\n",
       "    <tr>\n",
       "      <th>0</th>\n",
       "      <td>49</td>\n",
       "      <td>89</td>\n",
       "      <td>104.185353</td>\n",
       "      <td>28.762059</td>\n",
       "    </tr>\n",
       "    <tr>\n",
       "      <th>1</th>\n",
       "      <td>55</td>\n",
       "      <td>92</td>\n",
       "      <td>105.461264</td>\n",
       "      <td>30.466833</td>\n",
       "    </tr>\n",
       "    <tr>\n",
       "      <th>2</th>\n",
       "      <td>55</td>\n",
       "      <td>92</td>\n",
       "      <td>105.461264</td>\n",
       "      <td>30.193597</td>\n",
       "    </tr>\n",
       "    <tr>\n",
       "      <th>3</th>\n",
       "      <td>70</td>\n",
       "      <td>92</td>\n",
       "      <td>113.461264</td>\n",
       "      <td>30.632114</td>\n",
       "    </tr>\n",
       "    <tr>\n",
       "      <th>4</th>\n",
       "      <td>53</td>\n",
       "      <td>92</td>\n",
       "      <td>104.461264</td>\n",
       "      <td>29.889149</td>\n",
       "    </tr>\n",
       "    <tr>\n",
       "      <th>...</th>\n",
       "      <td>...</td>\n",
       "      <td>...</td>\n",
       "      <td>...</td>\n",
       "      <td>...</td>\n",
       "    </tr>\n",
       "    <tr>\n",
       "      <th>76</th>\n",
       "      <td>322</td>\n",
       "      <td>50</td>\n",
       "      <td>169.598513</td>\n",
       "      <td>16.132947</td>\n",
       "    </tr>\n",
       "    <tr>\n",
       "      <th>77</th>\n",
       "      <td>238</td>\n",
       "      <td>115</td>\n",
       "      <td>150.576579</td>\n",
       "      <td>37.923113</td>\n",
       "    </tr>\n",
       "    <tr>\n",
       "      <th>78</th>\n",
       "      <td>263</td>\n",
       "      <td>50</td>\n",
       "      <td>151.598513</td>\n",
       "      <td>15.769625</td>\n",
       "    </tr>\n",
       "    <tr>\n",
       "      <th>79</th>\n",
       "      <td>295</td>\n",
       "      <td>119</td>\n",
       "      <td>167.944460</td>\n",
       "      <td>39.423099</td>\n",
       "    </tr>\n",
       "    <tr>\n",
       "      <th>80</th>\n",
       "      <td>236</td>\n",
       "      <td>107</td>\n",
       "      <td>139.840817</td>\n",
       "      <td>34.948615</td>\n",
       "    </tr>\n",
       "  </tbody>\n",
       "</table>\n",
       "<p>81 rows × 4 columns</p>\n",
       "</div>"
      ],
      "text/plain": [
       "     HP  VOL          SP         WT\n",
       "0    49   89  104.185353  28.762059\n",
       "1    55   92  105.461264  30.466833\n",
       "2    55   92  105.461264  30.193597\n",
       "3    70   92  113.461264  30.632114\n",
       "4    53   92  104.461264  29.889149\n",
       "..  ...  ...         ...        ...\n",
       "76  322   50  169.598513  16.132947\n",
       "77  238  115  150.576579  37.923113\n",
       "78  263   50  151.598513  15.769625\n",
       "79  295  119  167.944460  39.423099\n",
       "80  236  107  139.840817  34.948615\n",
       "\n",
       "[81 rows x 4 columns]"
      ]
     },
     "execution_count": 85,
     "metadata": {},
     "output_type": "execute_result"
    }
   ],
   "source": [
    "X"
   ]
  },
  {
   "cell_type": "code",
   "execution_count": 86,
   "id": "00242567",
   "metadata": {},
   "outputs": [
    {
     "data": {
      "text/html": [
       "<div>\n",
       "<style scoped>\n",
       "    .dataframe tbody tr th:only-of-type {\n",
       "        vertical-align: middle;\n",
       "    }\n",
       "\n",
       "    .dataframe tbody tr th {\n",
       "        vertical-align: top;\n",
       "    }\n",
       "\n",
       "    .dataframe thead th {\n",
       "        text-align: right;\n",
       "    }\n",
       "</style>\n",
       "<table border=\"1\" class=\"dataframe\">\n",
       "  <thead>\n",
       "    <tr style=\"text-align: right;\">\n",
       "      <th></th>\n",
       "      <th>MPG</th>\n",
       "    </tr>\n",
       "  </thead>\n",
       "  <tbody>\n",
       "    <tr>\n",
       "      <th>0</th>\n",
       "      <td>53.700681</td>\n",
       "    </tr>\n",
       "    <tr>\n",
       "      <th>1</th>\n",
       "      <td>50.013401</td>\n",
       "    </tr>\n",
       "    <tr>\n",
       "      <th>2</th>\n",
       "      <td>50.013401</td>\n",
       "    </tr>\n",
       "    <tr>\n",
       "      <th>3</th>\n",
       "      <td>45.696322</td>\n",
       "    </tr>\n",
       "    <tr>\n",
       "      <th>4</th>\n",
       "      <td>50.504232</td>\n",
       "    </tr>\n",
       "    <tr>\n",
       "      <th>...</th>\n",
       "      <td>...</td>\n",
       "    </tr>\n",
       "    <tr>\n",
       "      <th>76</th>\n",
       "      <td>36.900000</td>\n",
       "    </tr>\n",
       "    <tr>\n",
       "      <th>77</th>\n",
       "      <td>19.197888</td>\n",
       "    </tr>\n",
       "    <tr>\n",
       "      <th>78</th>\n",
       "      <td>34.000000</td>\n",
       "    </tr>\n",
       "    <tr>\n",
       "      <th>79</th>\n",
       "      <td>19.833733</td>\n",
       "    </tr>\n",
       "    <tr>\n",
       "      <th>80</th>\n",
       "      <td>12.101263</td>\n",
       "    </tr>\n",
       "  </tbody>\n",
       "</table>\n",
       "<p>81 rows × 1 columns</p>\n",
       "</div>"
      ],
      "text/plain": [
       "          MPG\n",
       "0   53.700681\n",
       "1   50.013401\n",
       "2   50.013401\n",
       "3   45.696322\n",
       "4   50.504232\n",
       "..        ...\n",
       "76  36.900000\n",
       "77  19.197888\n",
       "78  34.000000\n",
       "79  19.833733\n",
       "80  12.101263\n",
       "\n",
       "[81 rows x 1 columns]"
      ]
     },
     "execution_count": 86,
     "metadata": {},
     "output_type": "execute_result"
    }
   ],
   "source": [
    "y"
   ]
  },
  {
   "cell_type": "markdown",
   "id": "bad96fe3",
   "metadata": {},
   "source": [
    "#### Model Training"
   ]
  },
  {
   "cell_type": "code",
   "execution_count": 87,
   "id": "1b5a8cb9",
   "metadata": {},
   "outputs": [
    {
     "data": {
      "text/plain": [
       "LinearRegression()"
      ]
     },
     "execution_count": 87,
     "metadata": {},
     "output_type": "execute_result"
    }
   ],
   "source": [
    "from sklearn.linear_model import LinearRegression\n",
    "lr_model = LinearRegression()\n",
    "lr_model.fit(X,y)"
   ]
  },
  {
   "cell_type": "markdown",
   "id": "50c5d856",
   "metadata": {},
   "source": [
    "#### Model Testing"
   ]
  },
  {
   "cell_type": "code",
   "execution_count": 89,
   "id": "a05d52e3",
   "metadata": {},
   "outputs": [],
   "source": [
    "y_pred = lr_model.predict(X)"
   ]
  },
  {
   "cell_type": "markdown",
   "id": "732f9697",
   "metadata": {},
   "source": [
    "#### Model Evaluation"
   ]
  },
  {
   "cell_type": "code",
   "execution_count": 90,
   "id": "da2662fa",
   "metadata": {},
   "outputs": [],
   "source": [
    "from sklearn.metrics import mean_squared_error,mean_absolute_error"
   ]
  },
  {
   "cell_type": "code",
   "execution_count": 92,
   "id": "0c4a8a3b",
   "metadata": {},
   "outputs": [
    {
     "data": {
      "text/plain": [
       "18.89714115234311"
      ]
     },
     "execution_count": 92,
     "metadata": {},
     "output_type": "execute_result"
    }
   ],
   "source": [
    "mean_squared_error(y,y_pred) #No outliers"
   ]
  },
  {
   "cell_type": "code",
   "execution_count": 94,
   "id": "d13524a2",
   "metadata": {},
   "outputs": [
    {
     "data": {
      "image/png": "[encoded data removed]",
      "text/plain": [
       "<Figure size 432x288 with 1 Axes>"
      ]
     },
     "metadata": {
      "needs_background": "light"
     },
     "output_type": "display_data"
    }
   ],
   "source": [
    "plt.scatter(cars_data['MPG'],y_pred)\n",
    "plt.show()"
   ]
  },
  {
   "cell_type": "code",
   "execution_count": 95,
   "id": "e72bbf94",
   "metadata": {},
   "outputs": [
    {
     "data": {
      "text/plain": [
       "3.2679682854208005"
      ]
     },
     "execution_count": 95,
     "metadata": {},
     "output_type": "execute_result"
    }
   ],
   "source": [
    "mean_absolute_error(y,y_pred) #Presence of outliers"
   ]
  },
  {
   "cell_type": "markdown",
   "id": "b03ef126",
   "metadata": {},
   "source": [
    "### ====================================================================================="
   ]
  },
  {
   "cell_type": "markdown",
   "id": "589d3e26",
   "metadata": {},
   "source": [
    "## Model Improvement Techniques"
   ]
  },
  {
   "cell_type": "markdown",
   "id": "22f05fca",
   "metadata": {},
   "source": [
    "## TAKEAWAY:\n",
    "\n",
    "Here wrt to few datapoints, it is evident that most of the input features are not showing direct linear relationship with output varible. So we have to do some transformations to make to linear.\n",
    "\n",
    "#### Data transformation techniques if the data is CONTINUOUS:\n",
    "\n",
    "* Log Transformation\n",
    "* Square Root Transformation\n",
    "* Cube Root Transformation\n",
    "* Reciprocal Transformation\n",
    "* Boxcox Transformation\n",
    "* Standard Scaler\n",
    "* Min Max Scaler\n",
    "* Robust Scaler\n",
    "\n",
    "### Data transformation techniques if the data is DISCRETE:\n",
    "\n",
    "* Label Encoding\n",
    "* One Hot Encoding"
   ]
  },
  {
   "cell_type": "markdown",
   "id": "2862b53e",
   "metadata": {},
   "source": [
    "#### Apply Log transformation\n",
    "\n",
    "#### Why? To make the input linearly related with the output"
   ]
  },
  {
   "cell_type": "code",
   "execution_count": 96,
   "id": "27a1d146",
   "metadata": {},
   "outputs": [
    {
     "data": {
      "text/html": [
       "<div>\n",
       "<style scoped>\n",
       "    .dataframe tbody tr th:only-of-type {\n",
       "        vertical-align: middle;\n",
       "    }\n",
       "\n",
       "    .dataframe tbody tr th {\n",
       "        vertical-align: top;\n",
       "    }\n",
       "\n",
       "    .dataframe thead th {\n",
       "        text-align: right;\n",
       "    }\n",
       "</style>\n",
       "<table border=\"1\" class=\"dataframe\">\n",
       "  <thead>\n",
       "    <tr style=\"text-align: right;\">\n",
       "      <th></th>\n",
       "      <th>HP</th>\n",
       "      <th>MPG</th>\n",
       "      <th>VOL</th>\n",
       "      <th>SP</th>\n",
       "      <th>WT</th>\n",
       "    </tr>\n",
       "  </thead>\n",
       "  <tbody>\n",
       "    <tr>\n",
       "      <th>0</th>\n",
       "      <td>49</td>\n",
       "      <td>53.700681</td>\n",
       "      <td>89</td>\n",
       "      <td>104.185353</td>\n",
       "      <td>28.762059</td>\n",
       "    </tr>\n",
       "    <tr>\n",
       "      <th>1</th>\n",
       "      <td>55</td>\n",
       "      <td>50.013401</td>\n",
       "      <td>92</td>\n",
       "      <td>105.461264</td>\n",
       "      <td>30.466833</td>\n",
       "    </tr>\n",
       "    <tr>\n",
       "      <th>2</th>\n",
       "      <td>55</td>\n",
       "      <td>50.013401</td>\n",
       "      <td>92</td>\n",
       "      <td>105.461264</td>\n",
       "      <td>30.193597</td>\n",
       "    </tr>\n",
       "    <tr>\n",
       "      <th>3</th>\n",
       "      <td>70</td>\n",
       "      <td>45.696322</td>\n",
       "      <td>92</td>\n",
       "      <td>113.461264</td>\n",
       "      <td>30.632114</td>\n",
       "    </tr>\n",
       "    <tr>\n",
       "      <th>4</th>\n",
       "      <td>53</td>\n",
       "      <td>50.504232</td>\n",
       "      <td>92</td>\n",
       "      <td>104.461264</td>\n",
       "      <td>29.889149</td>\n",
       "    </tr>\n",
       "    <tr>\n",
       "      <th>...</th>\n",
       "      <td>...</td>\n",
       "      <td>...</td>\n",
       "      <td>...</td>\n",
       "      <td>...</td>\n",
       "      <td>...</td>\n",
       "    </tr>\n",
       "    <tr>\n",
       "      <th>76</th>\n",
       "      <td>322</td>\n",
       "      <td>36.900000</td>\n",
       "      <td>50</td>\n",
       "      <td>169.598513</td>\n",
       "      <td>16.132947</td>\n",
       "    </tr>\n",
       "    <tr>\n",
       "      <th>77</th>\n",
       "      <td>238</td>\n",
       "      <td>19.197888</td>\n",
       "      <td>115</td>\n",
       "      <td>150.576579</td>\n",
       "      <td>37.923113</td>\n",
       "    </tr>\n",
       "    <tr>\n",
       "      <th>78</th>\n",
       "      <td>263</td>\n",
       "      <td>34.000000</td>\n",
       "      <td>50</td>\n",
       "      <td>151.598513</td>\n",
       "      <td>15.769625</td>\n",
       "    </tr>\n",
       "    <tr>\n",
       "      <th>79</th>\n",
       "      <td>295</td>\n",
       "      <td>19.833733</td>\n",
       "      <td>119</td>\n",
       "      <td>167.944460</td>\n",
       "      <td>39.423099</td>\n",
       "    </tr>\n",
       "    <tr>\n",
       "      <th>80</th>\n",
       "      <td>236</td>\n",
       "      <td>12.101263</td>\n",
       "      <td>107</td>\n",
       "      <td>139.840817</td>\n",
       "      <td>34.948615</td>\n",
       "    </tr>\n",
       "  </tbody>\n",
       "</table>\n",
       "<p>81 rows × 5 columns</p>\n",
       "</div>"
      ],
      "text/plain": [
       "     HP        MPG  VOL          SP         WT\n",
       "0    49  53.700681   89  104.185353  28.762059\n",
       "1    55  50.013401   92  105.461264  30.466833\n",
       "2    55  50.013401   92  105.461264  30.193597\n",
       "3    70  45.696322   92  113.461264  30.632114\n",
       "4    53  50.504232   92  104.461264  29.889149\n",
       "..  ...        ...  ...         ...        ...\n",
       "76  322  36.900000   50  169.598513  16.132947\n",
       "77  238  19.197888  115  150.576579  37.923113\n",
       "78  263  34.000000   50  151.598513  15.769625\n",
       "79  295  19.833733  119  167.944460  39.423099\n",
       "80  236  12.101263  107  139.840817  34.948615\n",
       "\n",
       "[81 rows x 5 columns]"
      ]
     },
     "execution_count": 96,
     "metadata": {},
     "output_type": "execute_result"
    }
   ],
   "source": [
    "cars_data"
   ]
  },
  {
   "cell_type": "code",
   "execution_count": 97,
   "id": "f690ba68",
   "metadata": {},
   "outputs": [
    {
     "data": {
      "text/html": [
       "<div>\n",
       "<style scoped>\n",
       "    .dataframe tbody tr th:only-of-type {\n",
       "        vertical-align: middle;\n",
       "    }\n",
       "\n",
       "    .dataframe tbody tr th {\n",
       "        vertical-align: top;\n",
       "    }\n",
       "\n",
       "    .dataframe thead th {\n",
       "        text-align: right;\n",
       "    }\n",
       "</style>\n",
       "<table border=\"1\" class=\"dataframe\">\n",
       "  <thead>\n",
       "    <tr style=\"text-align: right;\">\n",
       "      <th></th>\n",
       "      <th>HP</th>\n",
       "      <th>VOL</th>\n",
       "      <th>SP</th>\n",
       "      <th>WT</th>\n",
       "    </tr>\n",
       "  </thead>\n",
       "  <tbody>\n",
       "    <tr>\n",
       "      <th>0</th>\n",
       "      <td>49</td>\n",
       "      <td>89</td>\n",
       "      <td>104.185353</td>\n",
       "      <td>28.762059</td>\n",
       "    </tr>\n",
       "    <tr>\n",
       "      <th>1</th>\n",
       "      <td>55</td>\n",
       "      <td>92</td>\n",
       "      <td>105.461264</td>\n",
       "      <td>30.466833</td>\n",
       "    </tr>\n",
       "    <tr>\n",
       "      <th>2</th>\n",
       "      <td>55</td>\n",
       "      <td>92</td>\n",
       "      <td>105.461264</td>\n",
       "      <td>30.193597</td>\n",
       "    </tr>\n",
       "    <tr>\n",
       "      <th>3</th>\n",
       "      <td>70</td>\n",
       "      <td>92</td>\n",
       "      <td>113.461264</td>\n",
       "      <td>30.632114</td>\n",
       "    </tr>\n",
       "    <tr>\n",
       "      <th>4</th>\n",
       "      <td>53</td>\n",
       "      <td>92</td>\n",
       "      <td>104.461264</td>\n",
       "      <td>29.889149</td>\n",
       "    </tr>\n",
       "    <tr>\n",
       "      <th>...</th>\n",
       "      <td>...</td>\n",
       "      <td>...</td>\n",
       "      <td>...</td>\n",
       "      <td>...</td>\n",
       "    </tr>\n",
       "    <tr>\n",
       "      <th>76</th>\n",
       "      <td>322</td>\n",
       "      <td>50</td>\n",
       "      <td>169.598513</td>\n",
       "      <td>16.132947</td>\n",
       "    </tr>\n",
       "    <tr>\n",
       "      <th>77</th>\n",
       "      <td>238</td>\n",
       "      <td>115</td>\n",
       "      <td>150.576579</td>\n",
       "      <td>37.923113</td>\n",
       "    </tr>\n",
       "    <tr>\n",
       "      <th>78</th>\n",
       "      <td>263</td>\n",
       "      <td>50</td>\n",
       "      <td>151.598513</td>\n",
       "      <td>15.769625</td>\n",
       "    </tr>\n",
       "    <tr>\n",
       "      <th>79</th>\n",
       "      <td>295</td>\n",
       "      <td>119</td>\n",
       "      <td>167.944460</td>\n",
       "      <td>39.423099</td>\n",
       "    </tr>\n",
       "    <tr>\n",
       "      <th>80</th>\n",
       "      <td>236</td>\n",
       "      <td>107</td>\n",
       "      <td>139.840817</td>\n",
       "      <td>34.948615</td>\n",
       "    </tr>\n",
       "  </tbody>\n",
       "</table>\n",
       "<p>81 rows × 4 columns</p>\n",
       "</div>"
      ],
      "text/plain": [
       "     HP  VOL          SP         WT\n",
       "0    49   89  104.185353  28.762059\n",
       "1    55   92  105.461264  30.466833\n",
       "2    55   92  105.461264  30.193597\n",
       "3    70   92  113.461264  30.632114\n",
       "4    53   92  104.461264  29.889149\n",
       "..  ...  ...         ...        ...\n",
       "76  322   50  169.598513  16.132947\n",
       "77  238  115  150.576579  37.923113\n",
       "78  263   50  151.598513  15.769625\n",
       "79  295  119  167.944460  39.423099\n",
       "80  236  107  139.840817  34.948615\n",
       "\n",
       "[81 rows x 4 columns]"
      ]
     },
     "execution_count": 97,
     "metadata": {},
     "output_type": "execute_result"
    }
   ],
   "source": [
    "X"
   ]
  },
  {
   "cell_type": "code",
   "execution_count": 101,
   "id": "4e49d16e",
   "metadata": {},
   "outputs": [
    {
     "data": {
      "text/html": [
       "<div>\n",
       "<style scoped>\n",
       "    .dataframe tbody tr th:only-of-type {\n",
       "        vertical-align: middle;\n",
       "    }\n",
       "\n",
       "    .dataframe tbody tr th {\n",
       "        vertical-align: top;\n",
       "    }\n",
       "\n",
       "    .dataframe thead th {\n",
       "        text-align: right;\n",
       "    }\n",
       "</style>\n",
       "<table border=\"1\" class=\"dataframe\">\n",
       "  <thead>\n",
       "    <tr style=\"text-align: right;\">\n",
       "      <th></th>\n",
       "      <th>HP</th>\n",
       "      <th>MPG</th>\n",
       "      <th>VOL</th>\n",
       "      <th>SP</th>\n",
       "      <th>WT</th>\n",
       "    </tr>\n",
       "  </thead>\n",
       "  <tbody>\n",
       "    <tr>\n",
       "      <th>0</th>\n",
       "      <td>49</td>\n",
       "      <td>53.700681</td>\n",
       "      <td>89</td>\n",
       "      <td>104.185353</td>\n",
       "      <td>28.762059</td>\n",
       "    </tr>\n",
       "    <tr>\n",
       "      <th>1</th>\n",
       "      <td>55</td>\n",
       "      <td>50.013401</td>\n",
       "      <td>92</td>\n",
       "      <td>105.461264</td>\n",
       "      <td>30.466833</td>\n",
       "    </tr>\n",
       "    <tr>\n",
       "      <th>2</th>\n",
       "      <td>55</td>\n",
       "      <td>50.013401</td>\n",
       "      <td>92</td>\n",
       "      <td>105.461264</td>\n",
       "      <td>30.193597</td>\n",
       "    </tr>\n",
       "    <tr>\n",
       "      <th>3</th>\n",
       "      <td>70</td>\n",
       "      <td>45.696322</td>\n",
       "      <td>92</td>\n",
       "      <td>113.461264</td>\n",
       "      <td>30.632114</td>\n",
       "    </tr>\n",
       "    <tr>\n",
       "      <th>4</th>\n",
       "      <td>53</td>\n",
       "      <td>50.504232</td>\n",
       "      <td>92</td>\n",
       "      <td>104.461264</td>\n",
       "      <td>29.889149</td>\n",
       "    </tr>\n",
       "    <tr>\n",
       "      <th>...</th>\n",
       "      <td>...</td>\n",
       "      <td>...</td>\n",
       "      <td>...</td>\n",
       "      <td>...</td>\n",
       "      <td>...</td>\n",
       "    </tr>\n",
       "    <tr>\n",
       "      <th>76</th>\n",
       "      <td>322</td>\n",
       "      <td>36.900000</td>\n",
       "      <td>50</td>\n",
       "      <td>169.598513</td>\n",
       "      <td>16.132947</td>\n",
       "    </tr>\n",
       "    <tr>\n",
       "      <th>77</th>\n",
       "      <td>238</td>\n",
       "      <td>19.197888</td>\n",
       "      <td>115</td>\n",
       "      <td>150.576579</td>\n",
       "      <td>37.923113</td>\n",
       "    </tr>\n",
       "    <tr>\n",
       "      <th>78</th>\n",
       "      <td>263</td>\n",
       "      <td>34.000000</td>\n",
       "      <td>50</td>\n",
       "      <td>151.598513</td>\n",
       "      <td>15.769625</td>\n",
       "    </tr>\n",
       "    <tr>\n",
       "      <th>79</th>\n",
       "      <td>295</td>\n",
       "      <td>19.833733</td>\n",
       "      <td>119</td>\n",
       "      <td>167.944460</td>\n",
       "      <td>39.423099</td>\n",
       "    </tr>\n",
       "    <tr>\n",
       "      <th>80</th>\n",
       "      <td>236</td>\n",
       "      <td>12.101263</td>\n",
       "      <td>107</td>\n",
       "      <td>139.840817</td>\n",
       "      <td>34.948615</td>\n",
       "    </tr>\n",
       "  </tbody>\n",
       "</table>\n",
       "<p>81 rows × 5 columns</p>\n",
       "</div>"
      ],
      "text/plain": [
       "     HP        MPG  VOL          SP         WT\n",
       "0    49  53.700681   89  104.185353  28.762059\n",
       "1    55  50.013401   92  105.461264  30.466833\n",
       "2    55  50.013401   92  105.461264  30.193597\n",
       "3    70  45.696322   92  113.461264  30.632114\n",
       "4    53  50.504232   92  104.461264  29.889149\n",
       "..  ...        ...  ...         ...        ...\n",
       "76  322  36.900000   50  169.598513  16.132947\n",
       "77  238  19.197888  115  150.576579  37.923113\n",
       "78  263  34.000000   50  151.598513  15.769625\n",
       "79  295  19.833733  119  167.944460  39.423099\n",
       "80  236  12.101263  107  139.840817  34.948615\n",
       "\n",
       "[81 rows x 5 columns]"
      ]
     },
     "execution_count": 101,
     "metadata": {},
     "output_type": "execute_result"
    }
   ],
   "source": [
    "cars_data_2 = cars_data.copy()\n",
    "cars_data_2"
   ]
  },
  {
   "cell_type": "code",
   "execution_count": 114,
   "id": "a0837219",
   "metadata": {},
   "outputs": [
    {
     "data": {
      "text/html": [
       "<div>\n",
       "<style scoped>\n",
       "    .dataframe tbody tr th:only-of-type {\n",
       "        vertical-align: middle;\n",
       "    }\n",
       "\n",
       "    .dataframe tbody tr th {\n",
       "        vertical-align: top;\n",
       "    }\n",
       "\n",
       "    .dataframe thead th {\n",
       "        text-align: right;\n",
       "    }\n",
       "</style>\n",
       "<table border=\"1\" class=\"dataframe\">\n",
       "  <thead>\n",
       "    <tr style=\"text-align: right;\">\n",
       "      <th></th>\n",
       "      <th>HP</th>\n",
       "      <th>MPG</th>\n",
       "      <th>VOL</th>\n",
       "      <th>SP</th>\n",
       "      <th>WT</th>\n",
       "      <th>log_HP</th>\n",
       "      <th>log_VOL</th>\n",
       "      <th>log_SP</th>\n",
       "      <th>log_WT</th>\n",
       "      <th>sqrt_HP</th>\n",
       "    </tr>\n",
       "  </thead>\n",
       "  <tbody>\n",
       "    <tr>\n",
       "      <th>0</th>\n",
       "      <td>49</td>\n",
       "      <td>53.700681</td>\n",
       "      <td>89</td>\n",
       "      <td>104.185353</td>\n",
       "      <td>28.762059</td>\n",
       "      <td>3.891820</td>\n",
       "      <td>4.488636</td>\n",
       "      <td>4.646172</td>\n",
       "      <td>3.359057</td>\n",
       "      <td>7.000000</td>\n",
       "    </tr>\n",
       "    <tr>\n",
       "      <th>1</th>\n",
       "      <td>55</td>\n",
       "      <td>50.013401</td>\n",
       "      <td>92</td>\n",
       "      <td>105.461264</td>\n",
       "      <td>30.466833</td>\n",
       "      <td>4.007333</td>\n",
       "      <td>4.521789</td>\n",
       "      <td>4.658344</td>\n",
       "      <td>3.416639</td>\n",
       "      <td>7.416198</td>\n",
       "    </tr>\n",
       "    <tr>\n",
       "      <th>2</th>\n",
       "      <td>55</td>\n",
       "      <td>50.013401</td>\n",
       "      <td>92</td>\n",
       "      <td>105.461264</td>\n",
       "      <td>30.193597</td>\n",
       "      <td>4.007333</td>\n",
       "      <td>4.521789</td>\n",
       "      <td>4.658344</td>\n",
       "      <td>3.407630</td>\n",
       "      <td>7.416198</td>\n",
       "    </tr>\n",
       "    <tr>\n",
       "      <th>3</th>\n",
       "      <td>70</td>\n",
       "      <td>45.696322</td>\n",
       "      <td>92</td>\n",
       "      <td>113.461264</td>\n",
       "      <td>30.632114</td>\n",
       "      <td>4.248495</td>\n",
       "      <td>4.521789</td>\n",
       "      <td>4.731461</td>\n",
       "      <td>3.422049</td>\n",
       "      <td>8.366600</td>\n",
       "    </tr>\n",
       "    <tr>\n",
       "      <th>4</th>\n",
       "      <td>53</td>\n",
       "      <td>50.504232</td>\n",
       "      <td>92</td>\n",
       "      <td>104.461264</td>\n",
       "      <td>29.889149</td>\n",
       "      <td>3.970292</td>\n",
       "      <td>4.521789</td>\n",
       "      <td>4.648816</td>\n",
       "      <td>3.397495</td>\n",
       "      <td>7.280110</td>\n",
       "    </tr>\n",
       "    <tr>\n",
       "      <th>...</th>\n",
       "      <td>...</td>\n",
       "      <td>...</td>\n",
       "      <td>...</td>\n",
       "      <td>...</td>\n",
       "      <td>...</td>\n",
       "      <td>...</td>\n",
       "      <td>...</td>\n",
       "      <td>...</td>\n",
       "      <td>...</td>\n",
       "      <td>...</td>\n",
       "    </tr>\n",
       "    <tr>\n",
       "      <th>76</th>\n",
       "      <td>322</td>\n",
       "      <td>36.900000</td>\n",
       "      <td>50</td>\n",
       "      <td>169.598513</td>\n",
       "      <td>16.132947</td>\n",
       "      <td>5.774552</td>\n",
       "      <td>3.912023</td>\n",
       "      <td>5.133434</td>\n",
       "      <td>2.780864</td>\n",
       "      <td>17.944358</td>\n",
       "    </tr>\n",
       "    <tr>\n",
       "      <th>77</th>\n",
       "      <td>238</td>\n",
       "      <td>19.197888</td>\n",
       "      <td>115</td>\n",
       "      <td>150.576579</td>\n",
       "      <td>37.923113</td>\n",
       "      <td>5.472271</td>\n",
       "      <td>4.744932</td>\n",
       "      <td>5.014472</td>\n",
       "      <td>3.635561</td>\n",
       "      <td>15.427249</td>\n",
       "    </tr>\n",
       "    <tr>\n",
       "      <th>78</th>\n",
       "      <td>263</td>\n",
       "      <td>34.000000</td>\n",
       "      <td>50</td>\n",
       "      <td>151.598513</td>\n",
       "      <td>15.769625</td>\n",
       "      <td>5.572154</td>\n",
       "      <td>3.912023</td>\n",
       "      <td>5.021236</td>\n",
       "      <td>2.758086</td>\n",
       "      <td>16.217275</td>\n",
       "    </tr>\n",
       "    <tr>\n",
       "      <th>79</th>\n",
       "      <td>295</td>\n",
       "      <td>19.833733</td>\n",
       "      <td>119</td>\n",
       "      <td>167.944460</td>\n",
       "      <td>39.423099</td>\n",
       "      <td>5.686975</td>\n",
       "      <td>4.779123</td>\n",
       "      <td>5.123633</td>\n",
       "      <td>3.674352</td>\n",
       "      <td>17.175564</td>\n",
       "    </tr>\n",
       "    <tr>\n",
       "      <th>80</th>\n",
       "      <td>236</td>\n",
       "      <td>12.101263</td>\n",
       "      <td>107</td>\n",
       "      <td>139.840817</td>\n",
       "      <td>34.948615</td>\n",
       "      <td>5.463832</td>\n",
       "      <td>4.672829</td>\n",
       "      <td>4.940505</td>\n",
       "      <td>3.553879</td>\n",
       "      <td>15.362291</td>\n",
       "    </tr>\n",
       "  </tbody>\n",
       "</table>\n",
       "<p>81 rows × 10 columns</p>\n",
       "</div>"
      ],
      "text/plain": [
       "     HP        MPG  VOL          SP         WT    log_HP   log_VOL    log_SP  \\\n",
       "0    49  53.700681   89  104.185353  28.762059  3.891820  4.488636  4.646172   \n",
       "1    55  50.013401   92  105.461264  30.466833  4.007333  4.521789  4.658344   \n",
       "2    55  50.013401   92  105.461264  30.193597  4.007333  4.521789  4.658344   \n",
       "3    70  45.696322   92  113.461264  30.632114  4.248495  4.521789  4.731461   \n",
       "4    53  50.504232   92  104.461264  29.889149  3.970292  4.521789  4.648816   \n",
       "..  ...        ...  ...         ...        ...       ...       ...       ...   \n",
       "76  322  36.900000   50  169.598513  16.132947  5.774552  3.912023  5.133434   \n",
       "77  238  19.197888  115  150.576579  37.923113  5.472271  4.744932  5.014472   \n",
       "78  263  34.000000   50  151.598513  15.769625  5.572154  3.912023  5.021236   \n",
       "79  295  19.833733  119  167.944460  39.423099  5.686975  4.779123  5.123633   \n",
       "80  236  12.101263  107  139.840817  34.948615  5.463832  4.672829  4.940505   \n",
       "\n",
       "      log_WT    sqrt_HP  \n",
       "0   3.359057   7.000000  \n",
       "1   3.416639   7.416198  \n",
       "2   3.407630   7.416198  \n",
       "3   3.422049   8.366600  \n",
       "4   3.397495   7.280110  \n",
       "..       ...        ...  \n",
       "76  2.780864  17.944358  \n",
       "77  3.635561  15.427249  \n",
       "78  2.758086  16.217275  \n",
       "79  3.674352  17.175564  \n",
       "80  3.553879  15.362291  \n",
       "\n",
       "[81 rows x 10 columns]"
      ]
     },
     "execution_count": 114,
     "metadata": {},
     "output_type": "execute_result"
    }
   ],
   "source": [
    "import numpy as np\n",
    "cars_data_2['log_HP']  = np.log(cars_data_2['HP'])\n",
    "cars_data_2['sqrt_HP'] = np.sqrt(cars_data_2['HP'])\n",
    "cars_data_2['log_VOL'] = np.log(cars_data_2['VOL'])\n",
    "cars_data_2['log_SP']  = np.log(cars_data_2['SP'])\n",
    "cars_data_2['log_WT']  = np.log(cars_data_2['WT'])\n",
    "cars_data_2"
   ]
  },
  {
   "cell_type": "code",
   "execution_count": 106,
   "id": "40e60440",
   "metadata": {},
   "outputs": [
    {
     "data": {
      "image/png": "[encoded data removed]",
      "text/plain": [
       "<Figure size 360x360 with 1 Axes>"
      ]
     },
     "metadata": {
      "needs_background": "light"
     },
     "output_type": "display_data"
    },
    {
     "data": {
      "image/png": "[encoded data removed]",
      "text/plain": [
       "<Figure size 360x360 with 1 Axes>"
      ]
     },
     "metadata": {
      "needs_background": "light"
     },
     "output_type": "display_data"
    }
   ],
   "source": [
    "sns.lmplot(x='HP',y='MPG',data=cars_data_2)\n",
    "sns.lmplot(x='log_HP',y='MPG',data=cars_data_2)\n",
    "plt.show()"
   ]
  },
  {
   "cell_type": "code",
   "execution_count": 107,
   "id": "eab395e3",
   "metadata": {},
   "outputs": [
    {
     "data": {
      "image/png": "[encoded data removed]",
      "text/plain": [
       "<Figure size 360x360 with 1 Axes>"
      ]
     },
     "metadata": {
      "needs_background": "light"
     },
     "output_type": "display_data"
    },
    {
     "data": {
      "image/png": "[encoded data removed]",
      "text/plain": [
       "<Figure size 360x360 with 1 Axes>"
      ]
     },
     "metadata": {
      "needs_background": "light"
     },
     "output_type": "display_data"
    }
   ],
   "source": [
    "sns.lmplot(x='SP',y='MPG',data=cars_data_2)\n",
    "sns.lmplot(x='log_SP',y='MPG',data=cars_data_2)\n",
    "plt.show()"
   ]
  },
  {
   "cell_type": "code",
   "execution_count": 108,
   "id": "cd33b2a6",
   "metadata": {},
   "outputs": [
    {
     "data": {
      "image/png": "[encoded data removed]",
      "text/plain": [
       "<Figure size 360x360 with 1 Axes>"
      ]
     },
     "metadata": {
      "needs_background": "light"
     },
     "output_type": "display_data"
    },
    {
     "data": {
      "image/png": "[encoded data removed]",
      "text/plain": [
       "<Figure size 360x360 with 1 Axes>"
      ]
     },
     "metadata": {
      "needs_background": "light"
     },
     "output_type": "display_data"
    }
   ],
   "source": [
    "sns.lmplot(x='VOL',y='MPG',data=cars_data_2)\n",
    "sns.lmplot(x='log_VOL',y='MPG',data=cars_data_2)\n",
    "plt.show()"
   ]
  },
  {
   "cell_type": "code",
   "execution_count": 109,
   "id": "d6e34732",
   "metadata": {},
   "outputs": [
    {
     "data": {
      "image/png": "[encoded data removed]",
      "text/plain": [
       "<Figure size 360x360 with 1 Axes>"
      ]
     },
     "metadata": {
      "needs_background": "light"
     },
     "output_type": "display_data"
    },
    {
     "data": {
      "image/png": "[encoded data removed]",
      "text/plain": [
       "<Figure size 360x360 with 1 Axes>"
      ]
     },
     "metadata": {
      "needs_background": "light"
     },
     "output_type": "display_data"
    }
   ],
   "source": [
    "sns.lmplot(x='WT',y='MPG',data=cars_data_2)\n",
    "sns.lmplot(x='log_WT',y='MPG',data=cars_data_2)\n",
    "plt.show()"
   ]
  },
  {
   "cell_type": "markdown",
   "id": "16c1aa7d",
   "metadata": {},
   "source": [
    "### Understanding R2 and Adjusted R2"
   ]
  },
  {
   "cell_type": "code",
   "execution_count": 110,
   "id": "c313aa7a",
   "metadata": {},
   "outputs": [
    {
     "name": "stdout",
     "output_type": "stream",
     "text": [
      "R2 score          :  0.7114\n",
      "Adjusted R2 score :  0.7078\n",
      "AIC value         :  490.4986\n",
      "BIC value         :  495.2875\n"
     ]
    }
   ],
   "source": [
    "model_1 = smf.ols('MPG ~ log_HP',data = cars_data_2).fit()\n",
    "print('R2 score          : ',round(model_1.rsquared,4))\n",
    "print('Adjusted R2 score : ',round(model_1.rsquared_adj,4))\n",
    "print('AIC value         : ',round(model_1.aic,4)) \n",
    "print('BIC value         : ',round(model_1.bic,4))\n",
    "#when performing model selection, the one with the lowest AIC or BIC is preferred."
   ]
  },
  {
   "cell_type": "code",
   "execution_count": 111,
   "id": "2ebecae0",
   "metadata": {},
   "outputs": [
    {
     "name": "stdout",
     "output_type": "stream",
     "text": [
      "R2 score          :  0.8079\n",
      "Adjusted R2 score :  0.803\n",
      "AIC value         :  459.5115\n",
      "BIC value         :  466.6948\n"
     ]
    }
   ],
   "source": [
    "model_2 = smf.ols('MPG ~ log_HP + log_SP',data = cars_data_2).fit()\n",
    "print('R2 score          : ',round(model_2.rsquared,4))\n",
    "print('Adjusted R2 score : ',round(model_2.rsquared_adj,4))\n",
    "print('AIC value         : ',round(model_2.aic,4))\n",
    "print('BIC value         : ',round(model_2.bic,4))"
   ]
  },
  {
   "cell_type": "code",
   "execution_count": 112,
   "id": "0a7152d1",
   "metadata": {},
   "outputs": [
    {
     "name": "stdout",
     "output_type": "stream",
     "text": [
      "R2 score          :  0.9111\n",
      "Adjusted R2 score :  0.9077\n",
      "AIC value         :  399.1035\n",
      "BIC value         :  408.6813\n"
     ]
    }
   ],
   "source": [
    "model_3 = smf.ols('MPG ~ log_HP + log_SP + log_VOL',data = cars_data_2).fit()\n",
    "print('R2 score          : ',round(model_3.rsquared,4))\n",
    "print('Adjusted R2 score : ',round(model_3.rsquared_adj,4))\n",
    "print('AIC value         : ',round(model_3.aic,4))\n",
    "print('BIC value         : ',round(model_3.bic,4))"
   ]
  },
  {
   "cell_type": "code",
   "execution_count": 113,
   "id": "16221611",
   "metadata": {},
   "outputs": [
    {
     "name": "stdout",
     "output_type": "stream",
     "text": [
      "R2 score          :  0.9118\n",
      "Adjusted R2 score :  0.9071\n",
      "AIC value         :  400.5013\n",
      "BIC value         :  412.4736\n"
     ]
    }
   ],
   "source": [
    "model_4 = smf.ols('MPG ~ log_HP + log_SP + log_VOL + log_WT',data = cars_data_2).fit()\n",
    "print('R2 score          : ',round(model_4.rsquared,4))\n",
    "print('Adjusted R2 score : ',round(model_4.rsquared_adj,4))\n",
    "print('AIC value         : ',round(model_4.aic,4))\n",
    "print('BIC value         : ',round(model_4.bic,4))"
   ]
  },
  {
   "cell_type": "markdown",
   "id": "80b13e90",
   "metadata": {},
   "source": [
    "### EXPLORE - THE LOG TRANSFORMED FEATURES FOR PREDICTION AND CHECK WHETHER THE MSE is good."
   ]
  }
 ],
 "metadata": {
  "kernelspec": {
   "display_name": "Python 3",
   "language": "python",
   "name": "python3"
  },
  "language_info": {
   "codemirror_mode": {
    "name": "ipython",
    "version": 3
   },
   "file_extension": ".py",
   "mimetype": "text/x-python",
   "name": "python",
   "nbconvert_exporter": "python",
   "pygments_lexer": "ipython3",
   "version": "3.8.8"
  }
 },
 "nbformat": 4,
 "nbformat_minor": 5
}
